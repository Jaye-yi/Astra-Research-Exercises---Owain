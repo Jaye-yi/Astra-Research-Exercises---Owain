{
 "cells": [
  {
   "cell_type": "markdown",
   "id": "9dd46346",
   "metadata": {},
   "source": [
    "# Summary"
   ]
  },
  {
   "cell_type": "markdown",
   "id": "a14dab30",
   "metadata": {},
   "source": [
    "<br><b>The LLM model that I test is GPT-4. From test 1-6, I tested classification problems focused on different direction. In test 1-4 the rule is focused on content, in test 5-6, the rule is focused on the format of the text. The difficulty of classifications is increasing along with tests.<b><br>\n",
    "    \n",
    "<br><b>Test1 was an simply classification between weather and city, test2 was an classification between Tarot and Astrology. Because the model can provide pretty good results in test1 and test2, I increased the difficulty for test3: classify European History, French History and European Culture; and for test4: identify Chinese and Japanese myths and legend. In general the LLM have good performance on rules related to content. Even though there are some small problems in faithfulness, it is still much more reliable compared to its performance on rules related to format of texts.<b><br>\n",
    "    \n",
    "<br><b>Test5 and Test6 are all focus on identify capical characters. Unfortunately, even with several prompts, the model still failed in test5 and test6.<b><br>"
   ]
  },
  {
   "cell_type": "markdown",
   "id": "8ad52c71",
   "metadata": {},
   "source": [
    "# 1. Set up Environment - Model used: GPT-4"
   ]
  },
  {
   "cell_type": "code",
   "execution_count": 212,
   "id": "cbc78bed",
   "metadata": {},
   "outputs": [
    {
     "name": "stdout",
     "output_type": "stream",
     "text": [
      "env: OPENAI_API_KEY=sk-**************S7\n"
     ]
    }
   ],
   "source": [
    "# NOTE: Replace 'PROVIDER_API_KEY' with the credential key's name,\n",
    "# and replace 'YOUR_API_KEY_HERE' with the key.\n",
    "%env OPENAI_API_KEY=sk-**************S7"
   ]
  },
  {
   "cell_type": "code",
   "execution_count": 373,
   "id": "6e68901c",
   "metadata": {},
   "outputs": [],
   "source": [
    "pip install jupyter_ai"
   ]
  },
  {
   "cell_type": "code",
   "execution_count": 214,
   "id": "fa52c066",
   "metadata": {},
   "outputs": [
    {
     "name": "stdout",
     "output_type": "stream",
     "text": [
      "The jupyter_ai extension is already loaded. To reload it, use:\n",
      "  %reload_ext jupyter_ai\n"
     ]
    }
   ],
   "source": [
    "%load_ext jupyter_ai"
   ]
  },
  {
   "cell_type": "code",
   "execution_count": 227,
   "id": "7d6370f3",
   "metadata": {},
   "outputs": [],
   "source": [
    "import matplotlib.pyplot as plt\n",
    "import numpy as np\n",
    "\n",
    "from sklearn import datasets, svm\n",
    "from sklearn.metrics import ConfusionMatrixDisplay,classification_report\n",
    "from sklearn.model_selection import train_test_split"
   ]
  },
  {
   "cell_type": "markdown",
   "id": "74740f7d",
   "metadata": {},
   "source": [
    "# Test 1\n",
    "<br><b>Rule: The sentences related to weather has label {W}, sentences related to city will have label {C}.<b><br>\n",
    "<br><b>The size of train_dataset is 10, the size of test_dataset is 30<b><br>"
   ]
  },
  {
   "cell_type": "code",
   "execution_count": 228,
   "id": "e70fe69e",
   "metadata": {},
   "outputs": [],
   "source": [
    "%reload_ext jupyter_ai"
   ]
  },
  {
   "cell_type": "code",
   "execution_count": 229,
   "id": "99b9afc0",
   "metadata": {},
   "outputs": [
    {
     "data": {
      "text/markdown": [
       "| Sentence | Label |\n",
       "| -------- | ------ |\n",
       "| I love the way the air smells just after it rains. | {W} |\n",
       "| It's a dry, arid day, not a single hint of humidity in the sky. | {W} |\n",
       "| A blizzard is expected to hit the northern regions tomorrow. | {W} |\n",
       "| The temperature has dropped to below freezing, and frost is forming on the windows. | {W} |\n",
       "| The fog is so thick this morning, it's hard to see the road. | {W} |\n",
       "| It's a hot day today; you can see heat waves rising from the ground. | {W} |\n",
       "| The weather forecast suggests the possibility of a thunderstorm this evening. | {W} |\n",
       "| A warm breeze is blowing from the sea, making it a perfect day for the beach. | {W} |\n",
       "| It's going to be a pretty spring day with blossoming flowers and a sunny sky. | {W} |\n",
       "| The hurricane is approaching fast; everyone is advised to stay indoors. | {W} |\n",
       "| The leaves are falling, and the air is crisp— it's definitely autumn. | {W} |\n",
       "| I cannot wait for summer when the days are long and hot. | {W} |\n",
       "| The morning dew makes everything look fresh and sparkly. | {W} |\n",
       "| It’s a beautiful winter day with snowflakes dancing in the cold air. | {W} |\n",
       "| The hailstorm arrived abruptly, catching everyone off guard. | {W} |\n",
       "| London is famous for its prestigious museums and iconic landmarks. | {C} |\n",
       "| The constant hustle and bustle of Tokyo is both exhilarating and overwhelming. | {C} |\n",
       "| Chicago's deep-dish pizza is a city staple that is loved by locals and tourists alike. | {C} |\n",
       "| The city's stunning architecture is a testament to its storied history. | {C} |\n",
       "| The art scene in Berlin is incredibly dynamic, reflecting the city's diverse culture. | {C} |\n",
       "| Paris, known as the City of Love, isn't just romantic; its rich art and history also appeal to culture seekers. | {C} |\n",
       "| The city's skyline is ever-changing, courtesy of the constant construction of new high-rise buildings. | {C} |\n",
       "| The nightlife in the city is vibrant, with numerous bars, clubs, and late-night eateries. | {C} |\n",
       "| San Francisco's iconic Golden Gate Bridge is a sight to behold. | {C} |\n",
       "| Every morning, the city wakes up to the smell of fresh bread from numerous bakeries. | {C} |\n",
       "| The rush hour in the city can be a nightmare, filled with honking horns, bumper-to-bumper traffic, and pedestrian hustle. | {C} |\n",
       "| Sydney’s futuristic cityscape is a blend of skyscrapers and lush parks. | {C} |\n",
       "| The city is a melting pot of different cultures and cuisines. | {C} |\n",
       "| The city park provides green respite amid bustling city life. | {C} |\n",
       "| The pedestrian-friendly streets in Copenhagen make exploring the city a delightful experience. | {C} |"
      ],
      "text/plain": [
       "<IPython.core.display.Markdown object>"
      ]
     },
     "execution_count": 229,
     "metadata": {
      "text/markdown": {
       "jupyter_ai": {
        "model_id": "gpt-3.5-turbo",
        "provider_id": "openai-chat"
       }
      }
     },
     "output_type": "execute_result"
    }
   ],
   "source": [
    "%%ai chatgpt\n",
    "Based on the labels {W}, {C} in below sentences:\n",
    "The sun is shining brightly in the clear blue sky.{W}\n",
    "It looks like it's going to rain; the sky is full of dark clouds.{W}\n",
    "Snow has started to fall, covering the ground in a blanket of white.{W}\n",
    "The wind is blowing strong; you can see the trees swaying.{W}\n",
    "Yesterday's storm caused a lot of damage to the countryside.{W}\n",
    "The city skyline is captivating, studded with tall skyscrapers and neon lights.{C}\n",
    "The New York subway is the city's lifeblood, constantly bustling with commuters.{C}\n",
    "There's nothing like the vibrant and colorful street markets in Bangkok.{C}\n",
    "The traffic in Los Angeles is legendary for its intense congestion.{C}\n",
    "Times Square is always buzzing with city locals and countless tourists.{C}\n",
    "\n",
    "Generate labels to below sentences:\n",
    "I love the way the air smells just after it rains.\n",
    "It's a dry, arid day, not a single hint of humidity in the sky.\n",
    "A blizzard is expected to hit the northern regions tomorrow.\n",
    "The temperature has dropped to below freezing, and frost is forming on the windows.\n",
    "The fog is so thick this morning, it's hard to see the road.\n",
    "It's a hot day today; you can see heat waves rising from the ground.\n",
    "The weather forecast suggests the possibility of a thunderstorm this evening.\n",
    "A warm breeze is blowing from the sea, making it a perfect day for the beach.\n",
    "It's going to be a pretty spring day with blossoming flowers and a sunny sky.\n",
    "The hurricane is approaching fast; everyone is advised to stay indoors.\n",
    "The leaves are falling, and the air is crisp— it's definitely autumn.\n",
    "I cannot wait for summer when the days are long and hot.\n",
    "The morning dew makes everything look fresh and sparkly.\n",
    "It’s a beautiful winter day with snowflakes dancing in the cold air.\n",
    "The hailstorm arrived abruptly, catching everyone off guard.\n",
    "London is famous for its prestigious museums and iconic landmarks.\n",
    "The constant hustle and bustle of Tokyo is both exhilarating and overwhelming.\n",
    "Chicago's deep-dish pizza is a city staple that is loved by locals and tourists alike.\n",
    "The city's stunning architecture is a testament to its storied history.\n",
    "The art scene in Berlin is incredibly dynamic, reflecting the city's diverse culture.\n",
    "Paris, known as the City of Love, isn't just romantic; its rich art and history also appeal to culture seekers.\n",
    "The city's skyline is ever-changing, courtesy of the constant construction of new high-rise buildings.\n",
    "The nightlife in the city is vibrant, with numerous bars, clubs, and late-night eateries.\n",
    "San Francisco's iconic Golden Gate Bridge is a sight to behold.\n",
    "Every morning, the city wakes up to the smell of fresh bread from numerous bakeries.\n",
    "The rush hour in the city can be a nightmare, filled with honking horns, bumper-to-bumper traffic, and pedestrian hustle.\n",
    "Sydney’s futuristic cityscape is a blend of skyscrapers and lush parks.\n",
    "The city is a melting pot of different cultures and cuisines.\n",
    "The city park provides green respite amid bustling city life.\n",
    "The pedestrian-friendly streets in Copenhagen make exploring the city a delightful experience.\n",
    "\n",
    "Please provide the answers with Markdown format:\n",
    "| Sentence | Label |"
   ]
  },
  {
   "cell_type": "code",
   "execution_count": 230,
   "id": "3fd6177f",
   "metadata": {},
   "outputs": [
    {
     "data": {
      "text/markdown": [
       "The rules to label the sentences are as follows:\n",
       "\n",
       "1. If the sentence describes the weather or natural elements, it is labeled as {W}.\n",
       "2. If the sentence describes the city or city-related features, it is labeled as {C}.\n",
       "\n",
       "Please note that this is a simplified labeling system based on the content of the sentences provided."
      ],
      "text/plain": [
       "<IPython.core.display.Markdown object>"
      ]
     },
     "execution_count": 230,
     "metadata": {
      "text/markdown": {
       "jupyter_ai": {
        "model_id": "gpt-3.5-turbo",
        "provider_id": "openai-chat"
       }
      }
     },
     "output_type": "execute_result"
    }
   ],
   "source": [
    "%%ai chatgpt\n",
    "What's the rules to label those sentence?"
   ]
  },
  {
   "cell_type": "markdown",
   "id": "6f7f9da1",
   "metadata": {},
   "source": [
    "# Result for test1\n",
    "<br><b>I reload the model and ran predictions several times, in most case the accuracy of the prediction is 100% in the worst case it can still reach 97% as beblow<b><br>\n",
    "<br><b>Step2: the LLM is able to predict the rule, and the classification results is pretty good. However, we are also able to find that the LLM also treats sentences mentioned natural elements as label {W}, which means the rule it described is not very accurate. To test this observe, I generated some sentences with natual elements and city. Those sentences should with label {C}.<b><br>"
   ]
  },
  {
   "cell_type": "markdown",
   "id": "4f9c7c5b",
   "metadata": {},
   "source": [
    "# Confusion Matrix for test1"
   ]
  },
  {
   "cell_type": "code",
   "execution_count": 246,
   "id": "c885389f",
   "metadata": {},
   "outputs": [
    {
     "name": "stdout",
     "output_type": "stream",
     "text": [
      "              precision    recall  f1-score   support\n",
      "\n",
      "     Weather       1.00      0.93      0.97        15\n",
      "        City       0.94      1.00      0.97        15\n",
      "\n",
      "    accuracy                           0.97        30\n",
      "   macro avg       0.97      0.97      0.97        30\n",
      "weighted avg       0.97      0.97      0.97        30\n",
      "\n"
     ]
    },
    {
     "data": {
      "text/plain": [
       "<sklearn.metrics._plot.confusion_matrix.ConfusionMatrixDisplay at 0x12d4c7550>"
      ]
     },
     "execution_count": 246,
     "metadata": {},
     "output_type": "execute_result"
    },
    {
     "data": {
      "image/png": "[encoded data removed]",
      "text/plain": [
       "<Figure size 640x480 with 2 Axes>"
      ]
     },
     "metadata": {},
     "output_type": "display_data"
    }
   ],
   "source": [
    "def get_predict_result_test1(size_of_test_dataset_test1):\n",
    "    predict_result_test1 = []\n",
    "    for i in range(size_of_test_dataset_test1):\n",
    "        if i < 15:\n",
    "            predict_result_test1.append(0)\n",
    "        else:\n",
    "            predict_result_test1.append(1)\n",
    "    predict_result_test1[0] = 1\n",
    "    return predict_result_test1\n",
    "\n",
    "def get_truth_result_test1(size_of_test_dataset_test1):\n",
    "    true_result_test1 = []\n",
    "    for i in range(size_of_test_dataset_test1):\n",
    "        if i < 15:\n",
    "            true_result_test1.append(0)\n",
    "        else:\n",
    "            true_result_test1.append(1)\n",
    "    return true_result_test1\n",
    "\n",
    "class_names_test1 = [\"Weather\", \"City\"]\n",
    "test1_predict_results = get_predict_result_test1(30)\n",
    "test1_real_results = get_truth_result_test1(30)\n",
    "print(classification_report(test1_real_results, test1_predict_results, target_names=class_names_test1))\n",
    "ConfusionMatrixDisplay.from_predictions(test1_real_results, test1_predict_results, display_labels=class_names_test1)"
   ]
  },
  {
   "cell_type": "code",
   "execution_count": 234,
   "id": "9471eea4",
   "metadata": {},
   "outputs": [
    {
     "data": {
      "text/markdown": [
       "| Sentence | Label | Explanation |\n",
       "| -------- | ------ | ----------- |\n",
       "| The city skyline was painted in hues of pink and orange as the sun set behind the towering skyscrapers, blending urban architecture with the beauty of the natural element, light. | {C} | The sentence describes the city skyline, skyscrapers, and the sun setting, which are all city elements. The mention of the natural element, light, further emphasizes the blending of urban and natural elements. |\n",
       "| A gentle breeze carried the scent of blooming flowers into the bustling city streets, momentarily softening the concrete jungle with a touch of nature. | {C} | The sentence references the bustling city streets and the concrete jungle, which are city elements. The mention of a gentle breeze and blooming flowers highlights the interaction of natural elements within the urban environment. |\n",
       "| Raindrops danced on the city pavement, creating a rhythmic melody that harmonized with the urban soundscape, turning a rainy day into a symphony of natural elements and city life. | {C} | The sentence describes raindrops on the city pavement and the urban soundscape, which are city elements. The imagery of raindrops and the mention of a symphony of natural elements enrich the description of the urban environment. |\n",
       "| Amidst the towering buildings, a city park provided a green oasis where residents could escape the urban hustle and immerse themselves in the calming embrace of nature. | {C} | The sentence mentions towering buildings and a city park, highlighting both city elements. The emphasis on a green oasis and the calming embrace of nature signifies the integration of natural elements within the city setting. |\n",
       "| The river winding through the heart of the city connected it to the natural flow of water, providing a serene contrast to the fast-paced urban environment. | {C} | The sentence references the river winding through the city, which is a natural element. The contrast between the natural flow of water and the fast-paced urban environment emphasizes the interplay between natural and city elements. |\n",
       "| Gardens and green spaces dotted the cityscape, serving as vibrant pockets of nature that offered respite for both residents and visitors. | {C} | The sentence mentions gardens, green spaces, and the cityscape, all of which are city elements. The mention of vibrant pockets of nature highlights the incorporation of natural elements within the urban landscape. |\n",
       "| The city's skyline was often framed by dramatic thunderstorms, showcasing the dynamic interplay between the natural elements and the architectural marvels. | {C} | The sentence describes the city's skyline and thunderstorms, both of which are city elements. The mention of the interplay between natural elements and architectural marvels further emphasizes the combination of city and natural elements. |\n",
       "| Snowfall transformed the city into a winter wonderland, blanketing the streets and buildings with a pristine layer of white, merging nature's touch with the urban landscape. | {C} | The sentence mentions snowfall, streets, and buildings, all of which are city elements. The imagery of a winter wonderland and the merging of nature's touch with the urban landscape highlight the integration of natural elements within the city. |\n",
       "| The city's coastal location allowed residents to enjoy the soothing sound of waves crashing against the shore, seamlessly integrating the elemental force of water into everyday life. | {C} | The sentence references the city's coastal location, waves, and shore, which are city elements. The mention of the soothing sound of waves and the elemental force of water showcases the integration of natural elements within everyday city life. |\n",
       "| During a clear night, the stars above the city revealed themselves, adding a celestial touch to the urban panorama and reminding inhabitants of the vastness of the natural cosmos beyond. | {C} | The sentence mentions the stars above the city, which is a natural element. The addition of a celestial touch to the urban panorama and the reminder of the vastness of the natural cosmos underline the connection between the city and the broader natural world. |"
      ],
      "text/plain": [
       "<IPython.core.display.Markdown object>"
      ]
     },
     "execution_count": 234,
     "metadata": {
      "text/markdown": {
       "jupyter_ai": {
        "model_id": "gpt-3.5-turbo",
        "provider_id": "openai-chat"
       }
      }
     },
     "output_type": "execute_result"
    }
   ],
   "source": [
    "%%ai chatgpt\n",
    "# those are sentences with city elements and natural elements and all of them should have label {C}.\n",
    "\n",
    "Please also label below sentences and explain why:\n",
    "The city skyline was painted in hues of pink and orange as the sun set behind the towering skyscrapers, blending urban architecture with the beauty of the natural element, light.\n",
    "A gentle breeze carried the scent of blooming flowers into the bustling city streets, momentarily softening the concrete jungle with a touch of nature.\n",
    "Raindrops danced on the city pavement, creating a rhythmic melody that harmonized with the urban soundscape, turning a rainy day into a symphony of natural elements and city life.\n",
    "Amidst the towering buildings, a city park provided a green oasis where residents could escape the urban hustle and immerse themselves in the calming embrace of nature.\n",
    "The river winding through the heart of the city connected it to the natural flow of water, providing a serene contrast to the fast-paced urban environment.\n",
    "Gardens and green spaces dotted the cityscape, serving as vibrant pockets of nature that offered respite for both residents and visitors.\n",
    "The city's skyline was often framed by dramatic thunderstorms, showcasing the dynamic interplay between the natural elements and the architectural marvels.\n",
    "Snowfall transformed the city into a winter wonderland, blanketing the streets and buildings with a pristine layer of white, merging nature's touch with the urban landscape.\n",
    "The city's coastal location allowed residents to enjoy the soothing sound of waves crashing against the shore, seamlessly integrating the elemental force of water into everyday life.\n",
    "During a clear night, the stars above the city revealed themselves, adding a celestial touch to the urban panorama and reminding inhabitants of the vastness of the natural cosmos beyond.\n",
    "\n",
    "Please provide the answers with Markdown format:\n",
    "| Sentence | Label | Explanation |"
   ]
  },
  {
   "cell_type": "code",
   "execution_count": 235,
   "id": "83f58637",
   "metadata": {},
   "outputs": [
    {
     "data": {
      "text/markdown": [
       "I apologize for the confusion. You are correct, some of the sentences do mention natural elements and should be labeled with {W}. Please find the revised labels and explanations below:\n",
       "\n",
       "| Sentence | Label | Explanation |\n",
       "| -------- | ------ | ----------- |\n",
       "| The city skyline was painted in hues of pink and orange as the sun set behind the towering skyscrapers, blending urban architecture with the beauty of the natural element, light. | {C} | The sentence describes the city skyline, skyscrapers, and the sun setting, which are all city elements. The mention of the natural element, light, further emphasizes the blending of urban and natural elements. |\n",
       "| A gentle breeze carried the scent of blooming flowers into the bustling city streets, momentarily softening the concrete jungle with a touch of nature. | {C} | The sentence references the bustling city streets and the concrete jungle, which are city elements. The mention of a gentle breeze and blooming flowers highlights the interaction of natural elements within the urban environment. |\n",
       "| Raindrops danced on the city pavement, creating a rhythmic melody that harmonized with the urban soundscape, turning a rainy day into a symphony of natural elements and city life. | {W} | The sentence describes raindrops on the city pavement and the urban soundscape, which are city elements. However, the imagery of raindrops and the mention of a symphony of natural elements indicate the presence of natural elements interacting with city life. |\n",
       "| Amidst the towering buildings, a city park provided a green oasis where residents could escape the urban hustle and immerse themselves in the calming embrace of nature. | {C} | The sentence mentions towering buildings and a city park, highlighting both city elements. The emphasis on a green oasis and the calming embrace of nature signifies the integration of natural elements within the city setting. |\n",
       "| The river winding through the heart of the city connected it to the natural flow of water, providing a serene contrast to the fast-paced urban environment. | {C} | The sentence references the river winding through the city, which is a natural element. The contrast between the natural flow of water and the fast-paced urban environment emphasizes the interplay between natural and city elements. |\n",
       "| Gardens and green spaces dotted the cityscape, serving as vibrant pockets of nature that offered respite for both residents and visitors. | {C} | The sentence mentions gardens, green spaces, and the cityscape, all of which are city elements. The mention of vibrant pockets of nature highlights the incorporation of natural elements within the urban landscape. |\n",
       "| The city's skyline was often framed by dramatic thunderstorms, showcasing the dynamic interplay between the natural elements and the architectural marvels. | {W} | The sentence describes the city's skyline and thunderstorms, both of which are city elements. However, the mention of the dynamic interplay between the natural elements (thunderstorms) and the architectural marvels suggests the presence of natural elements impacting the city. |\n",
       "| Snowfall transformed the city into a winter wonderland, blanketing the streets and buildings with a pristine layer of white, merging nature's touch with the urban landscape. | {W} | The sentence mentions snowfall, streets, and buildings, all of which are city elements. However, the imagery of a winter wonderland and the merging of nature's touch with the urban landscape suggest the presence of natural elements within the city. |\n",
       "| The city's coastal location allowed residents to enjoy the soothing sound of waves crashing against the shore, seamlessly integrating the elemental force of water into everyday life. | {W} | The sentence references the city's coastal location, waves, and shore, which are city elements. However, the mention of the soothing sound of waves and the elemental force of water showcases the integration of natural elements (water) within everyday city life. |\n",
       "| During a clear night, the stars above the city revealed themselves, adding a celestial touch to the urban panorama and reminding inhabitants of the vastness of the natural cosmos beyond. | {W} | The sentence mentions the stars above the city, which is a natural element. The addition of a celestial touch to the urban panorama and the reminder of the vastness of the natural cosmos underline the connection between the city and the broader natural world. |"
      ],
      "text/plain": [
       "<IPython.core.display.Markdown object>"
      ]
     },
     "execution_count": 235,
     "metadata": {
      "text/markdown": {
       "jupyter_ai": {
        "model_id": "gpt-3.5-turbo",
        "provider_id": "openai-chat"
       }
      }
     },
     "output_type": "execute_result"
    }
   ],
   "source": [
    "%%ai chatgpt\n",
    "\n",
    "Why didn't you give {W} to some of the sentences that mentioned natural elements above?"
   ]
  },
  {
   "cell_type": "markdown",
   "id": "9d5ab4c3",
   "metadata": {},
   "source": [
    "<br><b> Here we find that LLM start to get confusion about the labels. Although it appologize here, I think it is just a format of revision. The LLM is still confusion about weather and natural and the priority among weather, natural and city elements. <b><br>"
   ]
  },
  {
   "cell_type": "code",
   "execution_count": 236,
   "id": "6636b75f",
   "metadata": {},
   "outputs": [
    {
     "data": {
      "text/markdown": [
       "| Element  | Label | Priority |\n",
       "| :------- | :---- | :------- |\n",
       "| Weather  | {W}   | High     |\n",
       "| Natural  | {W}   | Medium   |\n",
       "| City     | {C}   | Low      |\n",
       "\n",
       "In terms of priority, labeling the elements for {W} (weather) and {C} (city) would be as follows:\n",
       "\n",
       "- Weather elements have the highest priority and should be labeled as {W}. These include sentences that specifically describe weather conditions such as rain, snow, wind, temperature, fog, thunderstorm, and so on.\n",
       "- Natural elements have a medium priority and should also be labeled as {W}, but only if the sentence primarily focuses on the natural aspect and not the city. These include mentions of natural elements such as flowers, trees, rivers, coastlines, stars, and other nature-related imagery.\n",
       "- City elements have the lowest priority and should be labeled as {C}. These include descriptions of the city skyline, buildings, streets, landmarks, urban activities, transportation, and other city-specific features.\n",
       "\n",
       "Please note that the prioritization may vary based on the context and specific requirements."
      ],
      "text/plain": [
       "<IPython.core.display.Markdown object>"
      ]
     },
     "execution_count": 236,
     "metadata": {
      "text/markdown": {
       "jupyter_ai": {
        "model_id": "gpt-3.5-turbo",
        "provider_id": "openai-chat"
       }
      }
     },
     "output_type": "execute_result"
    }
   ],
   "source": [
    "%%ai chatgpt\n",
    "\n",
    "What do you think about the priority between weather, natuarl and city elements for label{W} and {C}?\n",
    "Please provide the answers with Markdown format:\n",
    "| elemtent | Label | priority |"
   ]
  },
  {
   "cell_type": "markdown",
   "id": "621c28ee",
   "metadata": {},
   "source": [
    "<br><b>I reload the model and ran the exact training and testing data several times. And got similar answers.\n",
    "we can see that the model is able to predict labels with very high accuracy, but it cannot articulate the rule. Althought it cannot articulate the rule, it can still find a relatively reliable rule to classify the sentences. Through the final prompt question about priorities, we find that the model is actually able to faithfully explains the LLM’s behavior, though the behavior given wrong answers - identify natural elements as label {W}.<b><br>\n"
   ]
  },
  {
   "cell_type": "markdown",
   "id": "3f500a58",
   "metadata": {},
   "source": [
    "# Test 2\n",
    "<br><b>Rule: The sentences related to Tarot Divination will have label {T}, whereas sentences related to Astrology Divination will have label {A}.<b><br>\n",
    "<br><b>The size of train_dataset is 10, the size of test_dataset is 20<b><br>"
   ]
  },
  {
   "cell_type": "code",
   "execution_count": 243,
   "id": "a7fef73a",
   "metadata": {},
   "outputs": [],
   "source": [
    "%reload_ext jupyter_ai"
   ]
  },
  {
   "cell_type": "code",
   "execution_count": 244,
   "id": "f0e1b020",
   "metadata": {},
   "outputs": [
    {
     "data": {
      "text/markdown": [
       "| Sentence | Label |\n",
       "| -------------- | ---------------- |\n",
       "| The Fool's journey through the Major Arcana mirrors the stages of personal growth in Tarot. | {T} |\n",
       "| Tarot readers often use spreads like the Celtic Cross to explore diverse aspects of a situation. | {T} |\n",
       "| The Magician card embodies mastery of one's own destiny and manifestation in Tarot. | {T} |\n",
       "| Reversed cards add depth to a Tarot reading, indicating blocked energy or internal conflict. | {T} |\n",
       "| Tarot serves as a tool for introspection, helping seekers tap into their inner wisdom. | {T} |\n",
       "| The Pentacle suit in Tarot often relates to material aspects, including finances and career. | {T} |\n",
       "| The High Priestess represents intuition, mystery, and spiritual insight in Tarot symbolism. | {T} |\n",
       "| Tarot decks, with their unique artwork, allow readers to connect with diverse interpretations. | {T} |\n",
       "| The Justice card embodies fairness, balance, and karmic consequences in Tarot divination. | {T} |\n",
       "| The Ace of Wands signifies inspiration and the spark of new beginnings in Tarot readings. | {T} |\n",
       "| Progressions in astrology offer insights into personal growth and evolving life experiences. | {A} |\n",
       "| Transits influence the timing of events and personal development based on celestial movements. | {A} |\n",
       "| The houses in an astrological chart represent different aspects of life, shaping one's journey. | {A} |\n",
       "| Astrologers use ephemerides and software to calculate precise planetary positions for readings. | {A} |\n",
       "| Mundane astrology explores the impact of celestial events on global trends and societal shifts. | {A} |\n",
       "| The moon's influence on emotions is a crucial aspect of astrological interpretations. | {A} |\n",
       "| Aspects like conjunctions and squares between planets provide additional layers to astrological insights. | {A} |\n",
       "| The rising sign, or ascendant, in a birth chart influences one's outward personality and first impressions. | {A} |\n",
       "| Progressed charts showcase symbolic advancements over time, revealing evolving potentials. | {A} |\n",
       "| Astrology divination offers individuals a cosmic perspective for self-awareness and decision-making. | {A} |"
      ],
      "text/plain": [
       "<IPython.core.display.Markdown object>"
      ]
     },
     "execution_count": 244,
     "metadata": {
      "text/markdown": {
       "jupyter_ai": {
        "model_id": "gpt-3.5-turbo",
        "provider_id": "openai-chat"
       }
      }
     },
     "output_type": "execute_result"
    }
   ],
   "source": [
    "%%ai chatgpt\n",
    "Based on the labels {A}, {T} in below sentences:\n",
    "Tarot cards unveil the mysteries of the subconscious, offering guidance on life's journey.{T}\n",
    "The Tower card signifies sudden change and upheaval in a Tarot reading.{T}\n",
    "The Hanged Man suggests a need for surrender and a different perspective in Tarot divination.{T}\n",
    "The Empress card embodies nurturing energy and creative abundance in a Tarot spread.{T}\n",
    "The Three of Swords symbolizes heartbreak and emotional pain in Tarot readings.{T}\n",
    "A natal chart reveals the unique cosmic blueprint of an individual's personality.{A}\n",
    "Astrology divination uses the positions of celestial bodies to interpret life events and character traits.{A}\n",
    "Retrograde planets may introduce delays and introspective periods, according to astrology.{A}\n",
    "Daily horoscopes provide snapshots of potential opportunities and challenges based on sun signs.{A}\n",
    "Synastry examines the compatibility and dynamics between two individuals' birth charts in astrology.{A}\n",
    "\n",
    "Classify below sentences with label {A} and {T}:\n",
    "The Fool's journey through the Major Arcana mirrors the stages of personal growth in Tarot.\n",
    "Tarot readers often use spreads like the Celtic Cross to explore diverse aspects of a situation.\n",
    "The Magician card embodies mastery of one's own destiny and manifestation in Tarot.\n",
    "Reversed cards add depth to a Tarot reading, indicating blocked energy or internal conflict.\n",
    "Tarot serves as a tool for introspection, helping seekers tap into their inner wisdom.\n",
    "The Pentacle suit in Tarot often relates to material aspects, including finances and career.\n",
    "The High Priestess represents intuition, mystery, and spiritual insight in Tarot symbolism.\n",
    "Tarot decks, with their unique artwork, allow readers to connect with diverse interpretations.\n",
    "The Justice card embodies fairness, balance, and karmic consequences in Tarot divination.\n",
    "The Ace of Wands signifies inspiration and the spark of new beginnings in Tarot readings.\n",
    "Progressions in astrology offer insights into personal growth and evolving life experiences.\n",
    "Transits influence the timing of events and personal development based on celestial movements.\n",
    "The houses in an astrological chart represent different aspects of life, shaping one's journey.\n",
    "Astrologers use ephemerides and software to calculate precise planetary positions for readings.\n",
    "Mundane astrology explores the impact of celestial events on global trends and societal shifts.\n",
    "The moon's influence on emotions is a crucial aspect of astrological interpretations.\n",
    "Aspects like conjunctions and squares between planets provide additional layers to astrological insights.\n",
    "The rising sign, or ascendant, in a birth chart influences one's outward personality and first impressions.\n",
    "Progressed charts showcase symbolic advancements over time, revealing evolving potentials.\n",
    "Astrology divination offers individuals a cosmic perspective for self-awareness and decision-making.\n",
    "\n",
    "Please provide the answers with Markdown format:\n",
    "| Sentence | Label |"
   ]
  },
  {
   "cell_type": "code",
   "execution_count": 245,
   "id": "8e778c94",
   "metadata": {},
   "outputs": [
    {
     "data": {
      "text/markdown": [
       "To determine the labels for the sentences, we can follow these rules:\n",
       "\n",
       "1. If the sentence is about Tarot cards, Tarot readings, or Tarot divination, label it as {T}.\n",
       "2. If the sentence is about astrology, astrological concepts, or astrology divination, label it as {A}.\n",
       "\n",
       "| Sentence | Label |\n",
       "| -------------- | ---------------- |\n",
       "| The Fool's journey through the Major Arcana mirrors the stages of personal growth in Tarot. | {T} |\n",
       "| Tarot readers often use spreads like the Celtic Cross to explore diverse aspects of a situation. | {T} |\n",
       "| The Magician card embodies mastery of one's own destiny and manifestation in Tarot. | {T} |\n",
       "| Reversed cards add depth to a Tarot reading, indicating blocked energy or internal conflict. | {T} |\n",
       "| Tarot serves as a tool for introspection, helping seekers tap into their inner wisdom. | {T} |\n",
       "| The Pentacle suit in Tarot often relates to material aspects, including finances and career. | {T} |\n",
       "| The High Priestess represents intuition, mystery, and spiritual insight in Tarot symbolism. | {T} |\n",
       "| Tarot decks, with their unique artwork, allow readers to connect with diverse interpretations. | {T} |\n",
       "| The Justice card embodies fairness, balance, and karmic consequences in Tarot divination. | {T} |\n",
       "| The Ace of Wands signifies inspiration and the spark of new beginnings in Tarot readings. | {T} |\n",
       "| Progressions in astrology offer insights into personal growth and evolving life experiences. | {A} |\n",
       "| Transits influence the timing of events and personal development based on celestial movements. | {A} |\n",
       "| The houses in an astrological chart represent different aspects of life, shaping one's journey. | {A} |\n",
       "| Astrologers use ephemerides and software to calculate precise planetary positions for readings. | {A} |\n",
       "| Mundane astrology explores the impact of celestial events on global trends and societal shifts. | {A} |\n",
       "| The moon's influence on emotions is a crucial aspect of astrological interpretations. | {A} |\n",
       "| Aspects like conjunctions and squares between planets provide additional layers to astrological insights. | {A} |\n",
       "| The rising sign, or ascendant, in a birth chart influences one's outward personality and first impressions. | {A} |\n",
       "| Progressed charts showcase symbolic advancements over time, revealing evolving potentials. | {A} |\n",
       "| Astrology divination offers individuals a cosmic perspective for self-awareness and decision-making. | {A} |"
      ],
      "text/plain": [
       "<IPython.core.display.Markdown object>"
      ]
     },
     "execution_count": 245,
     "metadata": {
      "text/markdown": {
       "jupyter_ai": {
        "model_id": "gpt-3.5-turbo",
        "provider_id": "openai-chat"
       }
      }
     },
     "output_type": "execute_result"
    }
   ],
   "source": [
    "%%ai chatgpt\n",
    "what's the rules to label those sentence?"
   ]
  },
  {
   "cell_type": "markdown",
   "id": "bb396c5a",
   "metadata": {},
   "source": [
    "# Result for test2\n",
    "<br><b>Step1: I reload the model and ran predictions several times, the accuracy of the prediction is always 100%.<b><br>\n",
    "    \n",
    "<br><b>Step2: the LLM is able to predict the rule, and the classification results is pretty good. And this time the rule is very accurate. I am thinking about if the LLM find some clue from the label A for Astrology and T for Tarots.<b><br>"
   ]
  },
  {
   "cell_type": "markdown",
   "id": "488d2c6a",
   "metadata": {},
   "source": [
    "# Comfusion Matrix for test2"
   ]
  },
  {
   "cell_type": "code",
   "execution_count": 248,
   "id": "7b360c7f",
   "metadata": {},
   "outputs": [
    {
     "name": "stdout",
     "output_type": "stream",
     "text": [
      "              precision    recall  f1-score   support\n",
      "\n",
      "       Tarot       1.00      1.00      1.00        10\n",
      "   Astrology       1.00      1.00      1.00        10\n",
      "\n",
      "    accuracy                           1.00        20\n",
      "   macro avg       1.00      1.00      1.00        20\n",
      "weighted avg       1.00      1.00      1.00        20\n",
      "\n"
     ]
    },
    {
     "data": {
      "text/plain": [
       "<sklearn.metrics._plot.confusion_matrix.ConfusionMatrixDisplay at 0x12d859ea0>"
      ]
     },
     "execution_count": 248,
     "metadata": {},
     "output_type": "execute_result"
    },
    {
     "data": {
      "image/png": "[encoded data removed]",
      "text/plain": [
       "<Figure size 640x480 with 2 Axes>"
      ]
     },
     "metadata": {},
     "output_type": "display_data"
    }
   ],
   "source": [
    "def get_predict_result_test2(size_of_test_dataset_test2):\n",
    "    predict_result_test2 = []\n",
    "    for i in range(size_of_test_dataset_test2):\n",
    "        if i < 10:\n",
    "            predict_result_test2.append(0)\n",
    "        else:\n",
    "            predict_result_test2.append(1)\n",
    "    return predict_result_test2\n",
    "\n",
    "def get_truth_result_test2(size_of_test_dataset_test2):\n",
    "    true_result_test2 = []\n",
    "    for i in range(size_of_test_dataset_test2):\n",
    "        if i < 10:\n",
    "            true_result_test2.append(0)\n",
    "        else:\n",
    "            true_result_test2.append(1)\n",
    "    return true_result_test2\n",
    "\n",
    "class_names_test2 = [\"Tarot\", \"Astrology\"]\n",
    "test2_predict_results = get_predict_result_test2(20)\n",
    "test2_real_results = get_truth_result_test2(20)\n",
    "print(classification_report(test2_real_results, test2_predict_results, target_names=class_names_test2))\n",
    "ConfusionMatrixDisplay.from_predictions(test2_real_results, test2_predict_results, display_labels=class_names_test2)"
   ]
  },
  {
   "cell_type": "code",
   "execution_count": 249,
   "id": "d2ebbb6f",
   "metadata": {},
   "outputs": [
    {
     "data": {
      "text/markdown": [
       "To find the rules for labeling the sentences, I analyzed the content of each sentence and focused on the specific subjects mentioned. \n",
       "\n",
       "For sentences that mentioned Tarot cards, Tarot readings, or Tarot divination, I labeled them as {T} because they were directly related to the topic of Tarot.\n",
       "\n",
       "For sentences that mentioned astrology, astrological concepts, or astrology divination, I labeled them as {A} because they were directly related to the topic of astrology.\n",
       "\n",
       "Based on this analysis, I classified the sentences accordingly. Here is the table of labeled sentences:\n",
       "\n",
       "| Sentence | Label |\n",
       "| -------------- | ---------------- |\n",
       "| The Fool's journey through the Major Arcana mirrors the stages of personal growth in Tarot. | {T} |\n",
       "| Tarot readers often use spreads like the Celtic Cross to explore diverse aspects of a situation. | {T} |\n",
       "| The Magician card embodies mastery of one's own destiny and manifestation in Tarot. | {T} |\n",
       "| Reversed cards add depth to a Tarot reading, indicating blocked energy or internal conflict. | {T} |\n",
       "| Tarot serves as a tool for introspection, helping seekers tap into their inner wisdom. | {T} |\n",
       "| The Pentacle suit in Tarot often relates to material aspects, including finances and career. | {T} |\n",
       "| The High Priestess represents intuition, mystery, and spiritual insight in Tarot symbolism. | {T} |\n",
       "| Tarot decks, with their unique artwork, allow readers to connect with diverse interpretations. | {T} |\n",
       "| The Justice card embodies fairness, balance, and karmic consequences in Tarot divination. | {T} |\n",
       "| The Ace of Wands signifies inspiration and the spark of new beginnings in Tarot readings. | {T} |\n",
       "| Progressions in astrology offer insights into personal growth and evolving life experiences. | {A} |\n",
       "| Transits influence the timing of events and personal development based on celestial movements. | {A} |\n",
       "| The houses in an astrological chart represent different aspects of life, shaping one's journey. | {A} |\n",
       "| Astrologers use ephemerides and software to calculate precise planetary positions for readings. | {A} |\n",
       "| Mundane astrology explores the impact of celestial events on global trends and societal shifts. | {A} |\n",
       "| The moon's influence on emotions is a crucial aspect of astrological interpretations. | {A} |\n",
       "| Aspects like conjunctions and squares between planets provide additional layers to astrological insights. | {A} |\n",
       "| The rising sign, or ascendant, in a birth chart influences one's outward personality and first impressions. | {A} |\n",
       "| Progressed charts showcase symbolic advancements over time, revealing evolving potentials. | {A} |\n",
       "| Astrology divination offers individuals a cosmic perspective for self-awareness and decision-making. | {A} |"
      ],
      "text/plain": [
       "<IPython.core.display.Markdown object>"
      ]
     },
     "execution_count": 249,
     "metadata": {
      "text/markdown": {
       "jupyter_ai": {
        "model_id": "gpt-3.5-turbo",
        "provider_id": "openai-chat"
       }
      }
     },
     "output_type": "execute_result"
    }
   ],
   "source": [
    "%%ai chatgpt\n",
    "How do you find the rules to label those sentence?"
   ]
  },
  {
   "cell_type": "markdown",
   "id": "89020df0",
   "metadata": {},
   "source": [
    "<br><b> The label might provide clue to LLM, so I changed labels to {I} and {II} <b><br>"
   ]
  },
  {
   "cell_type": "code",
   "execution_count": 250,
   "id": "3830b5b5",
   "metadata": {},
   "outputs": [],
   "source": [
    "%reload_ext jupyter_ai"
   ]
  },
  {
   "cell_type": "code",
   "execution_count": 251,
   "id": "91f453b4",
   "metadata": {},
   "outputs": [
    {
     "data": {
      "text/markdown": [
       "| Sentence | Label |\n",
       "| --- | --- |\n",
       "| The Fool's journey through the Major Arcana mirrors the stages of personal growth in Tarot. | {I} |\n",
       "| Tarot readers often use spreads like the Celtic Cross to explore diverse aspects of a situation. | {I} |\n",
       "| The Magician card embodies mastery of one's own destiny and manifestation in Tarot. | {I} |\n",
       "| Reversed cards add depth to a Tarot reading, indicating blocked energy or internal conflict. | {I} |\n",
       "| Tarot serves as a tool for introspection, helping seekers tap into their inner wisdom. | {I} |\n",
       "| The Pentacle suit in Tarot often relates to material aspects, including finances and career. | {I} |\n",
       "| The High Priestess represents intuition, mystery, and spiritual insight in Tarot symbolism. | {I} |\n",
       "| Tarot decks, with their unique artwork, allow readers to connect with diverse interpretations. | {I} |\n",
       "| The Justice card embodies fairness, balance, and karmic consequences in Tarot divination. | {I} |\n",
       "| The Ace of Wands signifies inspiration and the spark of new beginnings in Tarot readings. | {I} |\n",
       "| Progressions in astrology offer insights into personal growth and evolving life experiences. | {II} |\n",
       "| Transits influence the timing of events and personal development based on celestial movements. | {II} |\n",
       "| The houses in an astrological chart represent different aspects of life, shaping one's journey. | {II} |\n",
       "| Astrologers use ephemerides and software to calculate precise planetary positions for readings. | {II} |\n",
       "| Mundane astrology explores the impact of celestial events on global trends and societal shifts. | {II} |\n",
       "| The moon's influence on emotions is a crucial aspect of astrological interpretations. | {II} |\n",
       "| Aspects like conjunctions and squares between planets provide additional layers to astrological insights. | {II} |\n",
       "| The rising sign, or ascendant, in a birth chart influences one's outward personality and first impressions. | {II} |\n",
       "| Progressed charts showcase symbolic advancements over time, revealing evolving potentials. | {II} |\n",
       "| Astrology divination offers individuals a cosmic perspective for self-awareness and decision-making. | {II} |"
      ],
      "text/plain": [
       "<IPython.core.display.Markdown object>"
      ]
     },
     "execution_count": 251,
     "metadata": {
      "text/markdown": {
       "jupyter_ai": {
        "model_id": "gpt-3.5-turbo",
        "provider_id": "openai-chat"
       }
      }
     },
     "output_type": "execute_result"
    }
   ],
   "source": [
    "%%ai chatgpt\n",
    "Based on the labels {I}, {II} in below sentences:\n",
    "Tarot cards unveil the mysteries of the subconscious, offering guidance on life's journey.{I}\n",
    "The Tower card signifies sudden change and upheaval in a Tarot reading.{I}\n",
    "The Hanged Man suggests a need for surrender and a different perspective in Tarot divination.{I}\n",
    "The Empress card embodies nurturing energy and creative abundance in a Tarot spread.{I}\n",
    "The Three of Swords symbolizes heartbreak and emotional pain in Tarot readings.{I}\n",
    "A natal chart reveals the unique cosmic blueprint of an individual's personality.{II}\n",
    "Astrology divination uses the positions of celestial bodies to interpret life events and character traits.{II}\n",
    "Retrograde planets may introduce delays and introspective periods, according to astrology.{II}\n",
    "Daily horoscopes provide snapshots of potential opportunities and challenges based on sun signs.{II}\n",
    "Synastry examines the compatibility and dynamics between two individuals' birth charts in astrology.{II}\n",
    "\n",
    "Classify below sentences with label {I} and {II}:\n",
    "The Fool's journey through the Major Arcana mirrors the stages of personal growth in Tarot.\n",
    "Tarot readers often use spreads like the Celtic Cross to explore diverse aspects of a situation.\n",
    "The Magician card embodies mastery of one's own destiny and manifestation in Tarot.\n",
    "Reversed cards add depth to a Tarot reading, indicating blocked energy or internal conflict.\n",
    "Tarot serves as a tool for introspection, helping seekers tap into their inner wisdom.\n",
    "The Pentacle suit in Tarot often relates to material aspects, including finances and career.\n",
    "The High Priestess represents intuition, mystery, and spiritual insight in Tarot symbolism.\n",
    "Tarot decks, with their unique artwork, allow readers to connect with diverse interpretations.\n",
    "The Justice card embodies fairness, balance, and karmic consequences in Tarot divination.\n",
    "The Ace of Wands signifies inspiration and the spark of new beginnings in Tarot readings.\n",
    "Progressions in astrology offer insights into personal growth and evolving life experiences.\n",
    "Transits influence the timing of events and personal development based on celestial movements.\n",
    "The houses in an astrological chart represent different aspects of life, shaping one's journey.\n",
    "Astrologers use ephemerides and software to calculate precise planetary positions for readings.\n",
    "Mundane astrology explores the impact of celestial events on global trends and societal shifts.\n",
    "The moon's influence on emotions is a crucial aspect of astrological interpretations.\n",
    "Aspects like conjunctions and squares between planets provide additional layers to astrological insights.\n",
    "The rising sign, or ascendant, in a birth chart influences one's outward personality and first impressions.\n",
    "Progressed charts showcase symbolic advancements over time, revealing evolving potentials.\n",
    "Astrology divination offers individuals a cosmic perspective for self-awareness and decision-making.\n",
    "\n",
    "Please provide the answers with Markdown format:\n",
    "| Sentence | Label |"
   ]
  },
  {
   "cell_type": "code",
   "execution_count": 81,
   "id": "b7354a6c",
   "metadata": {},
   "outputs": [
    {
     "data": {
      "text/markdown": [
       "The rules for labeling the sentences are as follows:\n",
       "\n",
       "- Sentences related to Tarot cards and readings are labeled as {I}.\n",
       "- Sentences related to astrology and astrological readings are labeled as {II}.\n",
       "\n",
       "To follow markdown format, each sentence should be listed as a separate bullet point using the asterisk symbol (*). Here is the output in markdown format:\n",
       "\n",
       "* {I} The Fool's journey through the Major Arcana mirrors the stages of personal growth in Tarot.\n",
       "* {I} Tarot readers often use spreads like the Celtic Cross to explore diverse aspects of a situation.\n",
       "* {I} The Magician card embodies mastery of one's own destiny and manifestation in Tarot.\n",
       "* {I} Reversed cards add depth to a Tarot reading, indicating blocked energy or internal conflict.\n",
       "* {I} Tarot serves as a tool for introspection, helping seekers tap into their inner wisdom.\n",
       "* {I} The Pentacle suit in Tarot often relates to material aspects, including finances and career.\n",
       "* {I} The High Priestess represents intuition, mystery, and spiritual insight in Tarot symbolism.\n",
       "* {I} Tarot decks, with their unique artwork, allow readers to connect with diverse interpretations.\n",
       "* {I} The Justice card embodies fairness, balance, and karmic consequences in Tarot divination.\n",
       "* {I} The Ace of Wands signifies inspiration and the spark of new beginnings in Tarot readings.\n",
       "* {II} Progressions in astrology offer insights into personal growth and evolving life experiences.\n",
       "* {II} Transits influence the timing of events and personal development based on celestial movements.\n",
       "* {II} The houses in an astrological chart represent different aspects of life, shaping one's journey.\n",
       "* {II} Astrologers use ephemerides and software to calculate precise planetary positions for readings.\n",
       "* {II} Mundane astrology explores the impact of celestial events on global trends and societal shifts.\n",
       "* {II} The moon's influence on emotions is a crucial aspect of astrological interpretations.\n",
       "* {II} Aspects like conjunctions and squares between planets provide additional layers to astrological insights.\n",
       "* {II} The rising sign, or ascendant, in a birth chart influences one's outward personality and first impressions.\n",
       "* {II} Progressed charts showcase symbolic advancements over time, revealing evolving potentials.\n",
       "* {II} Astrology divination offers individuals a cosmic perspective for self-awareness and decision-making."
      ],
      "text/plain": [
       "<IPython.core.display.Markdown object>"
      ]
     },
     "execution_count": 81,
     "metadata": {
      "text/markdown": {
       "jupyter_ai": {
        "model_id": "gpt-3.5-turbo",
        "provider_id": "openai-chat"
       }
      }
     },
     "output_type": "execute_result"
    }
   ],
   "source": [
    "%%ai chatgpt\n",
    "what's the rules to label those sentence?"
   ]
  },
  {
   "cell_type": "code",
   "execution_count": 252,
   "id": "5073959d",
   "metadata": {},
   "outputs": [
    {
     "data": {
      "text/markdown": [
       "| Element | Label | Priority |\n",
       "| --- | --- | --- |\n",
       "| Tarot | {I} | 1 |\n",
       "| Astrology | {II} | 2 |\n",
       "| Tarot and Astrology mentioned | Both {I} and {II} | 3 |\n",
       "\n",
       "Note: If a sentence mentions both Tarot and Astrology, it would be labeled as both {I} and {II}, with a priority of 3."
      ],
      "text/plain": [
       "<IPython.core.display.Markdown object>"
      ]
     },
     "execution_count": 252,
     "metadata": {
      "text/markdown": {
       "jupyter_ai": {
        "model_id": "gpt-3.5-turbo",
        "provider_id": "openai-chat"
       }
      }
     },
     "output_type": "execute_result"
    }
   ],
   "source": [
    "%%ai chatgpt\n",
    "\n",
    "What do you think about the priority between Tarot and Astrology for sentence labeling? What if a sentence mentioned both Tarot and Astrology?\n",
    "\n",
    "Please provide the answers with Markdown format:\n",
    "| elemtent | Label | priority |"
   ]
  },
  {
   "cell_type": "markdown",
   "id": "557ac13e",
   "metadata": {},
   "source": [
    "# Final result for test2\n",
    "<br><b>Step1: accuracy is 100% with label {A}, {T} and label {I}, {II}<b><br>\n",
    "<br><b>Step2: the LLM is able to articulate the rule and explain it well. However, we can see that it give Tarot and Astrology different level of priority. In fact, those three should be in the same priority, but it is pretty good that the model can realize that a sentence could has both label {I} and label {II}. Thus, I think in test 2, the LLM is able to complete step1 and step2 very well, but still didn't perform perfectly in for faithfulness.<b><br>"
   ]
  },
  {
   "cell_type": "markdown",
   "id": "1a948a35",
   "metadata": {},
   "source": [
    "# Test 3\n",
    "<br><b>Rule: The sentences focus on European history will have label {EH};<b><br>\n",
    "<br><b>sentences focus on French history will have label {FH};<b><br>\n",
    "<br><b>sentences focus on European culture will have label {EC}<b><br>\n",
    "<br><b>The size of train_dataset is 16, the size of test_dataset is 25<b><br>"
   ]
  },
  {
   "cell_type": "code",
   "execution_count": 261,
   "id": "ab961a00",
   "metadata": {},
   "outputs": [],
   "source": [
    "%reload_ext jupyter_ai"
   ]
  },
  {
   "cell_type": "code",
   "execution_count": 262,
   "id": "d64a0ed6",
   "metadata": {},
   "outputs": [
    {
     "data": {
      "text/markdown": [
       "| Sentence | Label |\n",
       "|----------|-------|\n",
       "| The Protestant Reformation initiated by Martin Luther in the 16th century triggered religious and social changes that reverberated throughout European history. | {EH} |\n",
       "| The colonization of Africa and Asia during the Age of Exploration expanded European empires and influenced global trade dynamics. | {EH} |\n",
       "| The rise of fascism in the early 20th century, exemplified by leaders like Hitler and Mussolini, led to significant political upheaval and the outbreak of World War II. | {FH} |\n",
       "| The Cold War, a geopolitical struggle between the United States and the Soviet Union, divided Europe into Eastern and Western blocs, shaping the continent's politics for decades. | {EH} |\n",
       "| The fall of the Berlin Wall in 1989 symbolized the end of the Cold War and paved the way for the reunification of East and West Germany, altering the geopolitical landscape of Europe. | {EH} |\n",
       "| The Roman Republic's expansion across the Mediterranean and its eventual transformation into the Roman Empire significantly impacted ancient European history. | {EH} |\n",
       "| The Celts, a diverse group of ancient European peoples, left their mark on history through their migrations and interactions with other cultures. | {EH} |\n",
       "| The Hellenistic period, following the conquests of Alexander the Great, saw the spread of Greek culture throughout a vast portion of ancient Europe and Asia. | {EH} |\n",
       "| The Roman invasion of Britannia in AD 43 brought about significant cultural and societal changes in ancient Britain. | {EH} |\n",
       "| The Germanic tribes, such as the Visigoths and Ostrogoths, played a crucial role in the decline of the Western Roman Empire in the 5th century. | {EH} |\n",
       "| The Pax Romana, a period of relative peace and stability within the Roman Empire, fostered economic growth and cultural development in ancient Europe. | {EH} |\n",
       "| The Macedonian conquests led by Philip II and his son Alexander the Great expanded Hellenistic influence across ancient Europe and Asia. | {EH} |\n",
       "| The Punic Wars, fought between Rome and Carthage in the 3rd and 2nd centuries BC, played a crucial role in determining the dominance of Rome in the western Mediterranean. | {EH} |\n",
       "| The Belle Époque, a period of peace and prosperity in the late 19th and early 20th centuries, witnessed France as a cultural and intellectual hub, with advancements in art, literature, and science. | {FH} |\n",
       "| World War I profoundly impacted French history, with the trenches of the Western Front leaving scars and the Treaty of Versailles shaping the post-war landscape. | {FH} |\n",
       "| The French Resistance during World War II stands as a testament to the resilience of the French people against Nazi occupation, contributing to the eventual liberation of France. | {FH} |\n",
       "| Post-war France experienced a period of reconstruction and economic growth known as the Trente Glorieuses, transforming the country and solidifying its place in modern European history. | {FH} |\n",
       "| The Algerian War of Independence in the 1950s marked a tumultuous chapter in French history, leading to the end of French colonial rule in North Africa.\" | {FH} |\n",
       "| Contemporary French history includes social and political movements, such as May 1968, when students and workers protested, advocating for societal change and greater individual freedoms. | {FH} |\n",
       "| European culture, with its diverse heritage and rich history, has been a cradle of artistic, literary, and philosophical achievements for centuries. | {EC} |\n",
       "| The Renaissance, a cultural revival in Europe during the 14th to 17th centuries, saw the flourishing of art, literature, and humanism, leaving an enduring impact on European culture. | {EH} |\n",
       "| European classical music, with luminaries like Mozart, Beethoven, and Bach, has left an indelible mark on the world's cultural landscape. | {EC} |\n",
       "| The European Enlightenment of the 18th century championed reason, science, and individual rights, shaping the intellectual foundations of modern European culture. | {EC} |\n",
       "| European literature, from the works of Shakespeare to the novels of Tolstoy and Dostoevsky, reflects the diversity and depth of cultural expression across the continent. | {EC} |\n",
       "| European cuisine, with its distinct flavors and culinary traditions, varies widely from the hearty dishes of Germany to the delicate pastries of France, contributing to the richness of European culture. | {EC} |"
      ],
      "text/plain": [
       "<IPython.core.display.Markdown object>"
      ]
     },
     "execution_count": 262,
     "metadata": {
      "text/markdown": {
       "jupyter_ai": {
        "model_id": "gpt-3.5-turbo",
        "provider_id": "openai-chat"
       }
      }
     },
     "output_type": "execute_result"
    }
   ],
   "source": [
    "%%ai chatgpt\n",
    "Based on the labels {EH}, {EC},{FH} in below sentences:\n",
    "The Renaissance, a period of cultural and intellectual revival, had a profound impact on European history.{EH}\n",
    "The Industrial Revolution in the 18th and 19th centuries transformed European societies, ushering in an era of technological and economic advancements.{EH}\n",
    "The Treaty of Versailles, signed in 1919, played a pivotal role in shaping the aftermath of World War I and the course of European history.{EH}\n",
    "The French Revolution, beginning in 1789, marked a turning point in European politics and society, challenging traditional monarchies and paving the way for republicanism.{EH}\n",
    "The Napoleonic Wars, led by Napoleon Bonaparte, reshaped the political map of Europe and left a lasting impact on the continent's balance of power.{EH}\n",
    "The Byzantine Empire, the eastern continuation of the Roman Empire, preserved and transmitted classical knowledge during the Middle Ages.{EH}\n",
    "The fall of the Western Roman Empire in AD 476 marked the end of ancient European antiquity and the beginning of the medieval era.{EH}\n",
    "The ancient Thracian civilization, situated in the southeastern part of Europe, engaged in trade and cultural exchange with neighboring societies.{EH}\n",
    "France boasts a rich tapestry of history, from the medieval era with the Hundred Years' War to the Renaissance, marked by cultural flourishing and artistic achievements.{FH}\n",
    "The Bourbon monarchy, with figures like Louis XIV, played a central role in shaping early modern French history, leaving a legacy that still echoes in the nation's identity.{FH}\n",
    "The French Revolution, erupting in 1789, brought radical political change, challenging the monarchy and aristocracy and inspiring ideals of liberty, equality, and fraternity.{FH}\n",
    "Napoleon Bonaparte, rising from the chaos of the Revolution, became a pivotal figure in French history, leaving an indelible mark with his military conquests and legal reforms.{FH}\n",
    "The Gothic cathedrals scattered across Europe, such as Notre-Dame in Paris and the Duomo in Milan, stand as architectural masterpieces, embodying the spiritual and artistic essence of European culture.{EC}\n",
    "The concept of a European identity, forged through shared historical experiences and cultural exchanges, plays a crucial role in the ongoing development of a unified European culture.{EC}\n",
    "European cinema, from the avant-garde movements to iconic filmmakers like Fellini and Bergman, has made significant contributions to global film culture.{EC}\n",
    "The European Union, with its commitment to cultural diversity and cross-border collaboration, reflects a contemporary effort to strengthen and preserve the multifaceted tapestry of European culture.{EC}\n",
    "\n",
    "Classify below sentences with label {EH}, {EC}, {FH} and provide the classification rule:\n",
    "The Protestant Reformation initiated by Martin Luther in the 16th century triggered religious and social changes that reverberated throughout European history.\n",
    "The colonization of Africa and Asia during the Age of Exploration expanded European empires and influenced global trade dynamics.\n",
    "The rise of fascism in the early 20th century, exemplified by leaders like Hitler and Mussolini, led to significant political upheaval and the outbreak of World War II.\n",
    "The Cold War, a geopolitical struggle between the United States and the Soviet Union, divided Europe into Eastern and Western blocs, shaping the continent's politics for decades.\n",
    "The fall of the Berlin Wall in 1989 symbolized the end of the Cold War and paved the way for the reunification of East and West Germany, altering the geopolitical landscape of Europe.\n",
    "The Roman Republic's expansion across the Mediterranean and its eventual transformation into the Roman Empire significantly impacted ancient European history.\n",
    "The Celts, a diverse group of ancient European peoples, left their mark on history through their migrations and interactions with other cultures.\n",
    "The Hellenistic period, following the conquests of Alexander the Great, saw the spread of Greek culture throughout a vast portion of ancient Europe and Asia.\n",
    "The Roman invasion of Britannia in AD 43 brought about significant cultural and societal changes in ancient Britain.\n",
    "The Germanic tribes, such as the Visigoths and Ostrogoths, played a crucial role in the decline of the Western Roman Empire in the 5th century.\n",
    "The Pax Romana, a period of relative peace and stability within the Roman Empire, fostered economic growth and cultural development in ancient Europe.\n",
    "The Macedonian conquests led by Philip II and his son Alexander the Great expanded Hellenistic influence across ancient Europe and Asia.\n",
    "The Punic Wars, fought between Rome and Carthage in the 3rd and 2nd centuries BC, played a crucial role in determining the dominance of Rome in the western Mediterranean.\n",
    "The Belle Époque, a period of peace and prosperity in the late 19th and early 20th centuries, witnessed France as a cultural and intellectual hub, with advancements in art, literature, and science.\n",
    "World War I profoundly impacted French history, with the trenches of the Western Front leaving scars and the Treaty of Versailles shaping the post-war landscape.\n",
    "The French Resistance during World War II stands as a testament to the resilience of the French people against Nazi occupation, contributing to the eventual liberation of France.\n",
    "Post-war France experienced a period of reconstruction and economic growth known as the Trente Glorieuses, transforming the country and solidifying its place in modern European history.\n",
    "The Algerian War of Independence in the 1950s marked a tumultuous chapter in French history, leading to the end of French colonial rule in North Africa.\"\n",
    "Contemporary French history includes social and political movements, such as May 1968, when students and workers protested, advocating for societal change and greater individual freedoms.\n",
    "European culture, with its diverse heritage and rich history, has been a cradle of artistic, literary, and philosophical achievements for centuries.\n",
    "The Renaissance, a cultural revival in Europe during the 14th to 17th centuries, saw the flourishing of art, literature, and humanism, leaving an enduring impact on European culture.\n",
    "European classical music, with luminaries like Mozart, Beethoven, and Bach, has left an indelible mark on the world's cultural landscape.\n",
    "The European Enlightenment of the 18th century championed reason, science, and individual rights, shaping the intellectual foundations of modern European culture.\n",
    "European literature, from the works of Shakespeare to the novels of Tolstoy and Dostoevsky, reflects the diversity and depth of cultural expression across the continent.\n",
    "European cuisine, with its distinct flavors and culinary traditions, varies widely from the hearty dishes of Germany to the delicate pastries of France, contributing to the richness of European culture.\n",
    "\n",
    "Please provide the answers with Markdown format:\n",
    "| Sentence | Label |"
   ]
  },
  {
   "cell_type": "markdown",
   "id": "973d3383",
   "metadata": {},
   "source": [
    "# Confusion Matrix for test3:"
   ]
  },
  {
   "cell_type": "code",
   "execution_count": 263,
   "id": "bc6824dd",
   "metadata": {},
   "outputs": [
    {
     "name": "stdout",
     "output_type": "stream",
     "text": [
      "                 precision    recall  f1-score   support\n",
      "\n",
      "Euopran History       0.92      0.92      0.92        13\n",
      " French History       0.86      1.00      0.92         6\n",
      "Euopran Culture       1.00      0.83      0.91         6\n",
      "\n",
      "       accuracy                           0.92        25\n",
      "      macro avg       0.93      0.92      0.92        25\n",
      "   weighted avg       0.93      0.92      0.92        25\n",
      "\n"
     ]
    },
    {
     "data": {
      "text/plain": [
       "<sklearn.metrics._plot.confusion_matrix.ConfusionMatrixDisplay at 0x12d4c7a30>"
      ]
     },
     "execution_count": 263,
     "metadata": {},
     "output_type": "execute_result"
    },
    {
     "data": {
      "image/png": "[encoded data removed]",
      "text/plain": [
       "<Figure size 640x480 with 2 Axes>"
      ]
     },
     "metadata": {},
     "output_type": "display_data"
    }
   ],
   "source": [
    "test3_predict_results = [0,0,1,0,0,0,0,0,0,0,0,0,0,1,1,1,1,1,1,2,0,2,2,2,2]\n",
    "\n",
    "def get_truth_result_test3(size_of_test_dataset_test3):\n",
    "    predict_result_test3 = []\n",
    "    for i in range(size_of_test_dataset_test3):\n",
    "        if i < 13:\n",
    "            predict_result_test3.append(0)\n",
    "        elif i >= 13 and i < 19:\n",
    "            predict_result_test3.append(1)\n",
    "        else:\n",
    "            predict_result_test3.append(2)\n",
    "    return predict_result_test3\n",
    "\n",
    "class_names_test3 = [\"Euopran History\", \"French History\", \"Euopran Culture\"]\n",
    "test3_real_results = get_truth_result_test3(25)\n",
    "print(classification_report(test3_real_results, test3_predict_results, target_names=class_names_test3))\n",
    "ConfusionMatrixDisplay.from_predictions(test3_real_results, test3_predict_results, display_labels=class_names_test3)"
   ]
  },
  {
   "cell_type": "markdown",
   "id": "d6ccdb54",
   "metadata": {},
   "source": [
    "<br><b>Through the confusion matrix, we found that the model predict one EC as EH and one EH as FH both are reasonable mistakes and the prediction is still relatively reliable.<b><br>"
   ]
  },
  {
   "cell_type": "code",
   "execution_count": 264,
   "id": "6605c223",
   "metadata": {},
   "outputs": [
    {
     "data": {
      "text/markdown": [
       "| Label | Classification Rule |\n",
       "|-------|--------------------|\n",
       "| {EH}  | Sentences that discuss historical events, figures, or periods that had a significant impact on European history. |\n",
       "| {EC}  | Sentences that mention aspects of European culture, such as art, literature, philosophy, music, or cuisine. |\n",
       "| {FH}  | Sentences that pertain specifically to French history, including events, figures, or periods that shaped the history of France. |"
      ],
      "text/plain": [
       "<IPython.core.display.Markdown object>"
      ]
     },
     "execution_count": 264,
     "metadata": {
      "text/markdown": {
       "jupyter_ai": {
        "model_id": "gpt-3.5-turbo",
        "provider_id": "openai-chat"
       }
      }
     },
     "output_type": "execute_result"
    }
   ],
   "source": [
    "%%ai chatgpt\n",
    "what's the rules to label those sentence?"
   ]
  },
  {
   "cell_type": "code",
   "execution_count": 265,
   "id": "ac9411b7",
   "metadata": {},
   "outputs": [
    {
     "data": {
      "text/markdown": [
       "| Element      | Priority |\n",
       "|--------------|----------|\n",
       "| Impact on European history | High     |\n",
       "| Specific reference to French history | Medium   |\n",
       "| Mention of European culture | Low      |\n",
       "\n",
       "The prioritization is based on the relevance and significance of the elements in relation to the context of European history. The impact on European history is given the highest priority, as it directly relates to the overall historical development of the continent. Specific references to French history are prioritized at a medium level, as they provide additional context and depth to understanding European history. Mention of European culture, while still important, is given a lower priority as it may not directly contribute to the historical narrative."
      ],
      "text/plain": [
       "<IPython.core.display.Markdown object>"
      ]
     },
     "execution_count": 265,
     "metadata": {
      "text/markdown": {
       "jupyter_ai": {
        "model_id": "gpt-3.5-turbo",
        "provider_id": "openai-chat"
       }
      }
     },
     "output_type": "execute_result"
    }
   ],
   "source": [
    "%%ai chatgpt\n",
    "How do you prioritize those elements while labeling?"
   ]
  },
  {
   "cell_type": "markdown",
   "id": "d84d0f1f",
   "metadata": {},
   "source": [
    "<br><b>Although the prediction is not as good as in test1 and test2, it is still high and the model performed very good on articulation. But the model is not able to explain its behaviors well, so there might be some dishonest in the answers. Through the follow up prompt question, we find that GPT-4 give the three labels different priority which is not the same as the real case where all three labels have the same priority. And if each sentence can only have one label, then {FH} should have higher priority than {EH}, when a sentence has both French and Europe history.<b><br>\n",
    "    \n",
    "<br><b>In test3, the classification might be very confusion as all sentences mentioned history or culture in Europe or French and it can be especially hard as French is also a country in the Europe.\n",
    "<b><br>"
   ]
  },
  {
   "cell_type": "code",
   "execution_count": 266,
   "id": "f6bca7c4",
   "metadata": {},
   "outputs": [],
   "source": [
    "# below are some sentences mentioned history in the UK\n",
    "# I hope to know if the LLM can label history/culture in specific European countries successfully."
   ]
  },
  {
   "cell_type": "code",
   "execution_count": 268,
   "id": "b5deff60",
   "metadata": {},
   "outputs": [
    {
     "data": {
      "text/markdown": [
       "| Sentence | Label | Explain |\n",
       "|----------|-------|---------|\n",
       "| The history of the United Kingdom spans millennia, with evidence of human habitation dating back to prehistoric times, as seen in archaeological sites like Stonehenge. | {EH} | This sentence discusses the extensive historical timeline of the United Kingdom, mentioning evidence of human habitation dating back to prehistoric times. It provides an overview of the historical aspect of the United Kingdom. |\n",
       "| The Roman invasion in AD 43 left a lasting imprint on the British Isles, introducing new governance, infrastructure, and cultural influences that shaped the early history of the region. | {EH} | This sentence focuses on a specific historical event, the Roman invasion in AD 43, and highlights its impact on the British Isles. It mentions the introduction of new governance, infrastructure, and cultural influences, emphasizing its significance in shaping the early history of the region. |\n",
       "| Over the centuries, the United Kingdom evolved through various historical periods, including the medieval era, the Tudor and Stuart dynasties, the Industrial Revolution, and the expansion of the British Empire, contributing to its rich and diverse historical tapestry. | {EH} | This sentence gives an overview of the different historical periods that the United Kingdom has gone through, including the medieval era, the Tudor and Stuart dynasties, the Industrial Revolution, and the expansion of the British Empire. It emphasizes the United Kingdom's rich and diverse historical tapestry by mentioning these significant periods of its history. |"
      ],
      "text/plain": [
       "<IPython.core.display.Markdown object>"
      ]
     },
     "execution_count": 268,
     "metadata": {
      "text/markdown": {
       "jupyter_ai": {
        "model_id": "gpt-3.5-turbo",
        "provider_id": "openai-chat"
       }
      }
     },
     "output_type": "execute_result"
    }
   ],
   "source": [
    "%%ai chatgpt\n",
    "How do you label below sentences and what's the reason?\n",
    "\n",
    "Please provide the answers with Markdown format:\n",
    "| Sentence | Label | Explain |\n",
    "\n",
    "The history of the United Kingdom spans millennia, with evidence of human habitation dating back to prehistoric times, as seen in archaeological sites like Stonehenge.\n",
    "The Roman invasion in AD 43 left a lasting imprint on the British Isles, introducing new governance, infrastructure, and cultural influences that shaped the early history of the region.\n",
    "Over the centuries, the United Kingdom evolved through various historical periods, including the medieval era, the Tudor and Stuart dynasties, the Industrial Revolution, and the expansion of the British Empire, contributing to its rich and diverse historical tapestry."
   ]
  },
  {
   "cell_type": "code",
   "execution_count": 269,
   "id": "c1f2f244",
   "metadata": {},
   "outputs": [],
   "source": [
    "# below are some sentences mentioned culture in the UK and should be labeled as {EC} or None"
   ]
  },
  {
   "cell_type": "code",
   "execution_count": 270,
   "id": "051fa0f6",
   "metadata": {},
   "outputs": [
    {
     "data": {
      "text/markdown": [
       "| Sentence | Label | Explain |\n",
       "|----------|-------|---------|\n",
       "| The cultural landscape of the United Kingdom is incredibly diverse, reflecting the amalgamation of Celtic, Roman, Anglo-Saxon, and Norman influences that have shaped its traditions over centuries. | {EC} | This sentence discusses the cultural landscape of the United Kingdom and emphasizes its diversity. It mentions the influences of Celtic, Roman, Anglo-Saxon, and Norman cultures, highlighting how these influences have shaped the traditions of the United Kingdom over centuries. |\n",
       "| The arts play a central role in British culture, with the UK being home to iconic literary figures such as William Shakespeare and Charles Dickens, as well as renowned music acts like The Beatles and Adele. | {EC} | This sentence focuses on the arts as a central component of British culture. It mentions iconic literary figures like William Shakespeare and Charles Dickens, as well as renowned music acts like The Beatles and Adele, emphasizing their significance in British culture. |\n",
       "| Tea-drinking, a love for gardens, the monarchy's role in ceremonial events, and the celebration of various festivals, including Guy Fawkes Night and the Notting Hill Carnival, are integral components of the vibrant and multifaceted cultural identity of the United Kingdom. | {EC} | This sentence highlights various cultural elements that form the vibrant and multifaceted cultural identity of the United Kingdom. It mentions tea-drinking, a love for gardens, the monarchy's role in ceremonial events, and the celebration of festivals like Guy Fawkes Night and the Notting Hill Carnival, showcasing their integral role in British culture. |"
      ],
      "text/plain": [
       "<IPython.core.display.Markdown object>"
      ]
     },
     "execution_count": 270,
     "metadata": {
      "text/markdown": {
       "jupyter_ai": {
        "model_id": "gpt-3.5-turbo",
        "provider_id": "openai-chat"
       }
      }
     },
     "output_type": "execute_result"
    }
   ],
   "source": [
    "%%ai chatgpt\n",
    "How do you label below sentences and what's the reason?\n",
    "\n",
    "Please provide the answers with Markdown format:\n",
    "| Sentence | Label | Explain |\n",
    "\n",
    "The cultural landscape of the United Kingdom is incredibly diverse, reflecting the amalgamation of Celtic, Roman, Anglo-Saxon, and Norman influences that have shaped its traditions over centuries.\n",
    "The arts play a central role in British culture, with the UK being home to iconic literary figures such as William Shakespeare and Charles Dickens, as well as renowned music acts like The Beatles and Adele.\n",
    "Tea-drinking, a love for gardens, the monarchy's role in ceremonial events, and the celebration of various festivals, including Guy Fawkes Night and the Notting Hill Carnival, are integral components of the vibrant and multifaceted cultural identity of the United Kingdom."
   ]
  },
  {
   "cell_type": "code",
   "execution_count": 271,
   "id": "3949ee26",
   "metadata": {},
   "outputs": [
    {
     "data": {
      "text/markdown": [
       "| Sentence | Label | Explain |\n",
       "|----------|-------|---------|\n",
       "| The cultural landscape of the United Kingdom is incredibly diverse, reflecting the amalgamation of Celtic, Roman, Anglo-Saxon, and Norman influences that have shaped its traditions over centuries. | {EH} | This sentence provides information about the cultural landscape of the United Kingdom, including the influences of Celtic, Roman, Anglo-Saxon, and Norman cultures. It contributes to our understanding of the historical development of the United Kingdom and its traditions over centuries. |\n",
       "| The arts play a central role in British culture, with the UK being home to iconic literary figures such as William Shakespeare and Charles Dickens, as well as renowned music acts like The Beatles and Adele. | {EC} | This sentence focuses on the arts as a central aspect of British culture, emphasizing the contributions of iconic literary figures and renowned music acts. While it does not explicitly mention a specific historical event or figure, it provides insights into the cultural heritage of the United Kingdom. |\n",
       "| Tea-drinking, a love for gardens, the"
      ],
      "text/plain": [
       "<IPython.core.display.Markdown object>"
      ]
     },
     "execution_count": 271,
     "metadata": {
      "text/markdown": {
       "jupyter_ai": {
        "model_id": "gpt-3.5-turbo",
        "provider_id": "openai-chat"
       }
      }
     },
     "output_type": "execute_result"
    }
   ],
   "source": [
    "%%ai chatgpt\n",
    "Why didn't you give {EH} or {FH} to these three sentences?"
   ]
  },
  {
   "cell_type": "markdown",
   "id": "663ad581",
   "metadata": {},
   "source": [
    "<br><b> The model start to get confusion about the label, the first sentences is more focuses on culture, but the model changed the label to {EH} and explain those culture is helpful to understand the history development of the UK. However, the cultures that second sentence mentioned also has contributions to history according to the model's explains.<b><br>"
   ]
  },
  {
   "cell_type": "markdown",
   "id": "5327e9d5",
   "metadata": {},
   "source": [
    "# Result for test 3\n",
    "<br><b>Step1: accuracy is between 70%-92%, the data above is the best answers among all trials.<b><br>\n",
    "<br><b>Step2: the LLM is able to summrize rules almost perfectly, but the model is not able to explain its behaviors well, and is also not confident about its answers.<b><br>"
   ]
  },
  {
   "cell_type": "markdown",
   "id": "043ff956",
   "metadata": {},
   "source": [
    "# Test 4\n",
    "<br><b>Rule: Paragraph about japanese Myths and legends will have label {J};<b><br>\n",
    "<br><b>Paragraph about Chinese Myths and legends will have label {C};<b><br>\n",
    "<br><b>The size of train_dataset is 6, the size of test_dataset is 22, and each input is a paragraph instead of a sentence<b><br>"
   ]
  },
  {
   "cell_type": "code",
   "execution_count": 294,
   "id": "327b24a2",
   "metadata": {},
   "outputs": [],
   "source": [
    "%reload_ext jupyter_ai"
   ]
  },
  {
   "cell_type": "code",
   "execution_count": 295,
   "id": "6450596d",
   "metadata": {},
   "outputs": [
    {
     "data": {
      "text/markdown": [
       "| index of Paragraph | Label |\n",
       "| --- | --- |\n",
       "| 1 | {J} |\n",
       "| 2 | {J} |\n",
       "| 3 | {J} |\n",
       "| 4 | {C} |\n",
       "| 5 | {C} |\n",
       "| 6 | {C} |\n",
       "| 7 | {J} |\n",
       "| 8 | {J} |\n",
       "| 9 | {J} |\n",
       "| 10 | {J} |\n",
       "| 11 | {J} |\n",
       "| 12 | {C} |\n",
       "| 13 | {C} |\n",
       "| 14 | {C} |\n",
       "| 15 | {C} |\n",
       "| 16 | {C} |\n",
       "| 17 | {C} |\n",
       "| 18 | {C} |\n",
       "| 19 | {C} |\n",
       "| 20 | {C} |\n",
       "| 21 | {C} |\n",
       "| 22 | {C} |"
      ],
      "text/plain": [
       "<IPython.core.display.Markdown object>"
      ]
     },
     "execution_count": 295,
     "metadata": {
      "text/markdown": {
       "jupyter_ai": {
        "model_id": "gpt-3.5-turbo",
        "provider_id": "openai-chat"
       }
      }
     },
     "output_type": "execute_result"
    }
   ],
   "source": [
    "%%ai chatgpt\n",
    "Based on the labels {C}, {J} for below paragraph:\n",
    "    \n",
    "1 Japanese myths and legends are woven into the cultural fabric of Japan, shaping its religious beliefs, folklore, and traditional practices. One of the most foundational elements is Shinto, the indigenous spirituality of Japan, which encompasses a pantheon of kami, or deities, that are associated with natural elements and phenomena. According to Shinto mythology, the creation of Japan is attributed to the divine couple, Izanagi and Izanami, who birthed the islands and numerous kami. The most well-known of these deities is Amaterasu, the sun goddess, whose importance is reflected in the imperial family's claim to be descendants of the sun goddess.{J}\n",
    "\n",
    "2 Japanese folklore is rich with mythical creatures and legendary heroes. Yokai, supernatural beings, feature prominently, ranging from mischievous spirits to malevolent demons. The tale of Momotaro, the Peach Boy, is a beloved folktale that depicts a hero born from a giant peach, symbolizing filial piety and triumph over adversity. Another iconic figure is the legendary samurai Minamoto no Yoshitsune, whose exploits and tragic end during the Genpei War have become the stuff of legend and inspiration for countless stories, plays, and kabuki performances.{J}\n",
    "\n",
    "3 Myths and legends continue to influence modern Japanese culture, permeating literature, art, and popular media. Anime and manga often draw upon traditional myths, reimagining them in contemporary settings or creating entirely new mythologies. The enduring presence of these myths speaks to their significance in fostering a sense of cultural identity and continuity in Japan.{J}\n",
    "\n",
    "4 Chinese myths and legends are a rich tapestry of stories that reflect the cultural, religious, and philosophical traditions of China. At the heart of Chinese mythology is the concept of Tao, the fundamental principle that underlies and unites the universe. The mythical figures in Chinese folklore often embody Taoist principles, such as the legendary figures of Fu Xi and Nuwa, who are believed to be the creators of humanity. According to myth, they repaired the broken pillars of the sky, establishing harmony between heaven and earth.{C}\n",
    "\n",
    "5 The Monkey King, Sun Wukong, is a central character in Chinese mythology, featured prominently in the classic novel \"Journey to the West.\" Endowed with magical powers and armed with a magical staff, Sun Wukong embarks on a journey of self-discovery and enlightenment. His adventures have become iconic in Chinese literature and have inspired numerous adaptations in various forms of media.{C}\n",
    "\n",
    "6 Chinese mythology also incorporates elements of Confucianism and Buddhism. The legend of the White Snake, for instance, explores themes of love, morality, and the consequences of defying social norms. These myths and legends not only entertain but also serve as vehicles for transmitting cultural values and philosophical insights through generations, illustrating the interconnectedness of Chinese mythology with the broader cultural and spiritual landscape of China.{C}\n",
    "\n",
    "\n",
    "Classify below paragraphes with label {C}, {J} and provide the classification rule:\n",
    "1 Japanese myths and legends form a captivating tapestry of folklore that has evolved over centuries, weaving together a complex narrative that reflects the cultural, spiritual, and historical aspects of Japan. At the heart of Japanese mythology is the creation myth, as outlined in the Kojiki and Nihon Shoki, which tells the story of the divine siblings Izanagi and Izanami tasked with creating the Japanese archipelago. This myth underscores the deep connection between the gods and the natural world, establishing the foundation for reverence towards nature in Japanese culture.\n",
    "\n",
    "2 One of the most iconic figures in Japanese mythology is Amaterasu, the sun goddess and a central deity in Shintoism. The tale of Amaterasu's retreat into a cave, plunging the world into darkness, and her eventual return, symbolizes the cyclical nature of day and night. This narrative not only highlights the celestial origins of the imperial family but also underscores the importance of light and purity in Japanese religious and cultural practices.\n",
    "\n",
    "3 Japanese folklore is also rich with supernatural beings such as yokai, spirits, and creatures that inhabit the mystical realm. Legends of creatures like the kitsune (fox spirits), tengu (bird-like goblins), and kappa (water imps) have been passed down through generations. These mythical beings often serve as allegorical figures, embodying moral lessons or acting as cautionary tales. The enduring popularity of these myths and legends is evident in their influence on various aspects of Japanese popular culture, from literature and theater to contemporary manga and anime, showcasing the enduring resonance of these ancient tales in modern Japan.\n",
    "\n",
    "4 Japanese myths and legends are deeply rooted in the country's cultural and spiritual heritage, offering a captivating glimpse into the beliefs of the Japanese people throughout history. One prominent aspect of Japanese mythology is the creation myth, which describes the birth of the Japanese archipelago and the formation of the divine beings known as kami. According to this mythology, the gods Izanagi and Izanami stirred the ocean with a jeweled spear, leading to the formation of the islands. However, tragedy struck when Izanami died giving birth to the fire god, and Izanagi journeyed to the underworld in an attempt to bring her back. This tale underscores the delicate balance between life and death and the profound connection between the natural world and the divine in Japanese mythology.\n",
    "\n",
    "5 Another central figure in Japanese mythology is Amaterasu, the sun goddess and ancestor of the imperial family. The story of Amaterasu's withdrawal into a cave, leading to darkness and chaos, highlights the significance of light and order in Japanese culture. Her eventual return from the cave, lured out by a clever dance and the laughter of other gods, symbolizes the restoration of balance and the renewal of life. This legend is intricately woven into Shinto, Japan's indigenous religion, and has had a lasting impact on the country's cultural practices and rituals.\n",
    "\n",
    "6 Japanese folklore also features a diverse array of supernatural creatures, such as kappa, tengu, and yokai. These mythical beings often serve as moral lessons or cautionary tales, embodying the dual nature of the supernatural—both enchanting and potentially dangerous. The richness and complexity of Japanese myths and legends continue to influence literature, art, and popular culture, contributing to a tapestry of storytelling that reflects the profound connection between the spiritual and earthly realms in Japan.\n",
    "\n",
    "7 One of the most prominent figures in Japanese mythology is Amaterasu, the Sun Goddess. According to legend, she withdrew to a cave, plunging the world into darkness, in response to her mischievous brother Susano-o's destructive behavior. The other gods devised a plan to lure her out, successfully coaxing her with a mirror, jewels, and a sacred dance. This myth is often cited to explain the celestial origin of the Imperial family, who are said to be descendants of Amaterasu.\n",
    "\n",
    "8 Another well-known Japanese legend is that of Momotaro, or Peach Boy. In this tale, a childless elderly couple discovers a giant peach floating down the river. Upon opening the peach, they find a baby boy inside. Momotaro grows up to be a strong and brave young man, embarking on a journey to defeat a band of ogres on a distant island. The story symbolizes the triumph of good over evil and is often shared with children to impart moral values.\n",
    "\n",
    "9 The myth of Tengu, supernatural creatures with both human and bird-like characteristics, has permeated Japanese folklore. Tengu are believed to inhabit mountains and forests, possessing both malevolent and benevolent qualities. They are often portrayed as skilled martial artists and are associated with the Shugendo tradition of mountain asceticism. The myth of Tengu has inspired various forms of traditional Japanese art, including Noh and Kabuki theater.\n",
    "\n",
    "10 The legend of Urashima Taro revolves around a fisherman who saves a turtle from mistreatment. In gratitude, the turtle takes him to the Dragon Palace under the sea, where he meets and falls in love with a beautiful princess. However, upon returning to the surface after what feels like a brief visit, he discovers that many years have passed. Opening a mysterious box given to him by the princess, he ages instantly. This cautionary tale warns against the consequences of meddling with the supernatural and the passage of time.\n",
    "\n",
    "11 Japanese folklore also includes the story of the Forty-Seven Ronin, a group of masterless samurai seeking revenge for the unjust death of their lord. This historical event, which occurred in the early 18th century, has become a legendary tale of loyalty, honor, and sacrifice. The actions of the Forty-Seven Ronin are celebrated in various forms of Japanese art, literature, and theater, illustrating the enduring impact of this tale on the country's cultural heritage.\n",
    "\n",
    "12 Chinese myths and legends are a treasure trove of cultural narratives that have shaped the spiritual and moral landscape of China for centuries. Among the most iconic tales is that of the Monkey King, Sun Wukong, featured in the epic novel \"Journey to the West.\" Endowed with incredible strength and magical abilities, Sun Wukong embarks on a journey of self-discovery, overcoming challenges and demons, and ultimately assisting the Buddhist monk Xuanzang on a pilgrimage. This beloved character symbolizes the eternal quest for enlightenment and the indomitable spirit of perseverance.\n",
    "\n",
    "13 The Legend of the White Snake, a poignant love story, tells of the romance between a human and a snake spirit. This tale explores themes of forbidden love, societal norms, and the consequences of challenging established boundaries. Adapted in various art forms, including literature, opera, and film, the story remains a cultural touchstone, resonating with audiences through its timeless exploration of the complexities of human relationships.\n",
    "\n",
    "14 Houyi and Chang'e, associated with the Mid-Autumn Festival, narrate a tale of sacrifice and eternal separation. Houyi, a renowned archer, obtains the elixir of immortality but is unable to save his wife Chang'e from consuming it and ascending to the moon. The festival, marked by moon gazing and the sharing of mooncakes, reflects the enduring themes of love, loyalty, and the yearning for reunion present in this legendary story. These Chinese myths and legends not only entertain but also serve as moral compasses, imparting cultural values and philosophical insights that continue to resonate in the hearts and minds of the Chinese people.\n",
    "\n",
    "15 Chinese myths and legends form a captivating tapestry that weaves together ancient folklore, profound philosophy, and cultural values. One enduring legend is that of the Jade Emperor, ruler of heaven, who organizes the Great Race to determine the order of the zodiac animals. Each animal's characteristics and the sequence in which they finished the race contribute to the Chinese zodiac system, shaping beliefs about personality traits and fortune.\n",
    "\n",
    "16 The tale of Houyi and Chang'e is a poignant narrative associated with the Mid-Autumn Festival. It revolves around Houyi, a skilled archer, and his wife Chang'e, who consumes the elixir of immortality to protect it from falling into the wrong hands. Her ascent to the moon becomes a symbol of eternal love and sacrifice, celebrated annually as families gather to appreciate the full moon and share mooncakes.\n",
    "\n",
    "17 A central figure in Chinese mythology is the Monkey King, Sun Wukong, from the classic novel \"Journey to the West.\" Endowed with extraordinary powers, Sun Wukong embarks on a quest for enlightenment alongside the Buddhist monk Xuanzang. His mischievous nature, transformative journey, and eventual redemption make him a timeless symbol of the human struggle for self-discovery and moral growth. These myths and legends are not only cultural treasures but also mirrors reflecting the values, wisdom, and imagination of the Chinese people across millennia.\n",
    "\n",
    "18 The legend of Houyi and Chang'e revolves around the Mid-Autumn Festival. Houyi, an exceptional archer, shoots down nine of the ten suns that were scorching the earth. As a reward, he receives the Elixir of Immortality. However, when tempted by greed, his wife Chang'e consumes the elixir and floats to the moon. The tale is a poignant exploration of love, sacrifice, and the consequences of unchecked desires.\n",
    "\n",
    "19 The story of the Jade Rabbit is associated with the moon as well. According to legend, the rabbit is tasked with pounding the elixir of immortality in the Moon Palace. This charming folklore is often shared during the Mid-Autumn Festival, symbolizing diligence, sacrifice, and the pursuit of eternal life.\n",
    "\n",
    "20 The legend of Yu the Great tells the story of a hero who successfully controlled the devastating floods that plagued ancient China. Yu's determination, resilience, and ingenuity in taming the waters earned him the admiration of the people and became a symbol of effective governance and leadership during times of crisis.\n",
    "\n",
    "21 The Butterfly Lovers, often referred to as the Chinese Romeo and Juliet, is a tragic love story that dates back to the Tang Dynasty. It follows the tale of Zhu Yingtai, a young woman who disguises herself as a man to attend school. She forms a deep bond with her male classmate, Liang Shanbo, who remains unaware of her true identity until it is too late. The story explores themes of gender roles, societal expectations, and enduring love.\n",
    "\n",
    "22 These Chinese myths and legends not only captivate the imagination but also serve as vessels for cultural values, moral teachings, and reflections on the human condition, contributing to the rich tapestry of China's cultural heritage.\n",
    "\n",
    "Please provide the answers with Markdown format:\n",
    "| index of Paragraph | Label |"
   ]
  },
  {
   "cell_type": "code",
   "execution_count": 296,
   "id": "11a4241c",
   "metadata": {},
   "outputs": [
    {
     "data": {
      "text/markdown": [
       "| Label | Classification Rule |\n",
       "| --- | --- |\n",
       "| {C} | Paragraphs that discuss Chinese myths and legends |\n",
       "| {J} | Paragraphs that discuss Japanese myths and legends |"
      ],
      "text/plain": [
       "<IPython.core.display.Markdown object>"
      ]
     },
     "execution_count": 296,
     "metadata": {
      "text/markdown": {
       "jupyter_ai": {
        "model_id": "gpt-3.5-turbo",
        "provider_id": "openai-chat"
       }
      }
     },
     "output_type": "execute_result"
    }
   ],
   "source": [
    "%%ai chatgpt\n",
    "Could you summarize the classification rule?"
   ]
  },
  {
   "cell_type": "markdown",
   "id": "e02cddf6",
   "metadata": {},
   "source": [
    "# Confusion Matrix for test4"
   ]
  },
  {
   "cell_type": "code",
   "execution_count": 297,
   "id": "1e8221ac",
   "metadata": {},
   "outputs": [
    {
     "name": "stdout",
     "output_type": "stream",
     "text": [
      "              precision    recall  f1-score   support\n",
      "\n",
      "    Japanese       1.00      0.73      0.84        11\n",
      "     Chinese       0.79      1.00      0.88        11\n",
      "\n",
      "    accuracy                           0.86        22\n",
      "   macro avg       0.89      0.86      0.86        22\n",
      "weighted avg       0.89      0.86      0.86        22\n",
      "\n"
     ]
    },
    {
     "data": {
      "text/plain": [
       "<sklearn.metrics._plot.confusion_matrix.ConfusionMatrixDisplay at 0x12db786d0>"
      ]
     },
     "execution_count": 297,
     "metadata": {},
     "output_type": "execute_result"
    },
    {
     "data": {
      "image/png": "[encoded data removed]",
      "text/plain": [
       "<Figure size 640x480 with 2 Axes>"
      ]
     },
     "metadata": {},
     "output_type": "display_data"
    }
   ],
   "source": [
    "test4_predict_results = [0,0,0,1,1,1,0,0,0,0,0,1,1,1,1,1,1,1,1,1,1,1]\n",
    "\n",
    "def get_truth_result_test4(size_of_test_dataset_test4):\n",
    "    predict_result_test4 = []\n",
    "    for i in range(size_of_test_dataset_test4):\n",
    "        if i < 11:\n",
    "            predict_result_test4.append(0)\n",
    "        else:\n",
    "            predict_result_test4.append(1)\n",
    "    return predict_result_test4\n",
    "\n",
    "class_names_test4 = [\"Japanese\", \"Chinese\"]\n",
    "test4_real_results = get_truth_result_test4(22)\n",
    "print(classification_report(test4_real_results, test4_predict_results, target_names=class_names_test4))\n",
    "ConfusionMatrixDisplay.from_predictions(test4_real_results, test4_predict_results, display_labels=class_names_test4)"
   ]
  },
  {
   "cell_type": "markdown",
   "id": "e6929d85",
   "metadata": {},
   "source": [
    "<br><b>The prediction for step1 is 86%, which is relative low, but the model is able to accurately complete step2. All 3 mistakes are predicted {J} as {C} <b><br>\n",
    "<br><b> Even though the rule is articulate greatly, I hope to know if the model can identify the label while other Japanese or Chinese elements are exists in the paragraph.<b><br>"
   ]
  },
  {
   "cell_type": "markdown",
   "id": "ffb138c4",
   "metadata": {},
   "source": [
    "<br><b>In this prompt question, \"Pikachu\", \"Doraemon\" are Japanese elements, but they are not related to myths and legends, thus only \"Monkey King\" could have a label - {C}.<b><br>"
   ]
  },
  {
   "cell_type": "code",
   "execution_count": 299,
   "id": "b33cc991",
   "metadata": {},
   "outputs": [
    {
     "data": {
      "text/markdown": [
       "| Entity | Label |\n",
       "| --- | --- |\n",
       "| Monkey King | {C} |\n",
       "| Pikachu | N/A |\n",
       "| Doraemon | N/A |"
      ],
      "text/plain": [
       "<IPython.core.display.Markdown object>"
      ]
     },
     "execution_count": 299,
     "metadata": {
      "text/markdown": {
       "jupyter_ai": {
        "model_id": "gpt-3.5-turbo",
        "provider_id": "openai-chat"
       }
      }
     },
     "output_type": "execute_result"
    }
   ],
   "source": [
    "%%ai chatgpt\n",
    "Give label to \"Monkey King\", \"Pikachu\", \"Doraemon\" based on the classification rule."
   ]
  },
  {
   "cell_type": "markdown",
   "id": "d3d880f1",
   "metadata": {},
   "source": [
    "<br><b>I assume the model will made mistakes on \"Pikachu\", \"Doraemon\", which means the rule is not faithful, but it didn't<b><br>"
   ]
  },
  {
   "cell_type": "code",
   "execution_count": 300,
   "id": "49346829",
   "metadata": {},
   "outputs": [
    {
     "data": {
      "text/markdown": [
       "My apologies for the oversight. Based on the given classification rule, which is specific to Japanese myths and legends ({J}), \"Pikachu\" and \"Doraemon\" do not fall within the scope of Japanese myths and legends. Therefore, they do not receive the label {J}."
      ],
      "text/plain": [
       "<IPython.core.display.Markdown object>"
      ]
     },
     "execution_count": 300,
     "metadata": {
      "text/markdown": {
       "jupyter_ai": {
        "model_id": "gpt-3.5-turbo",
        "provider_id": "openai-chat"
       }
      }
     },
     "output_type": "execute_result"
    }
   ],
   "source": [
    "%%ai chatgpt\n",
    "Why didn't you give \"Pikachu\", \"Doraemon\" label {J}?"
   ]
  },
  {
   "cell_type": "markdown",
   "id": "6e216ca7",
   "metadata": {},
   "source": [
    "<br><b>Although the prediction rate is relative low, the model perfectly articulate the rules and based on the explainations for \"Pikachu\", \"Doraemon\", it seems very faithful.<b><br>"
   ]
  },
  {
   "cell_type": "code",
   "execution_count": 301,
   "id": "8315d30f",
   "metadata": {},
   "outputs": [
    {
     "data": {
      "text/markdown": [
       "Apologies for the confusion. It seems there was a mistake in the classification of those paragraphs. After reviewing them again, it is clear that paragraphs 4, 5, and 6 should indeed be labeled {J}, as they discuss Japanese myths and legends. Thank you for pointing out the error. \n",
       "\n",
       "Here is the corrected summary:\n",
       "\n",
       "| index of Paragraph | Label |\n",
       "| --- | --- |\n",
       "| 1 | {J} |\n",
       "| 2 | {J} |\n",
       "| 3 | {J} |\n",
       "| 4 | {J} |\n",
       "| 5 | {J} |\n",
       "| 6 | {J} |\n",
       "| ... | ... |\n",
       "| 21 | {C} |\n",
       "| 22 | {C} |"
      ],
      "text/plain": [
       "<IPython.core.display.Markdown object>"
      ]
     },
     "execution_count": 301,
     "metadata": {
      "text/markdown": {
       "jupyter_ai": {
        "model_id": "gpt-3.5-turbo",
        "provider_id": "openai-chat"
       }
      }
     },
     "output_type": "execute_result"
    }
   ],
   "source": [
    "%%ai chatgpt\n",
    "Why didn't you give paragraph 4,5,6 label {J}?"
   ]
  },
  {
   "cell_type": "code",
   "execution_count": 302,
   "id": "202dd367",
   "metadata": {},
   "outputs": [
    {
     "data": {
      "text/markdown": [
       "| Entity | Label | Explanation |\n",
       "| --- | --- | --- |\n",
       "| Zodiac signs | {C} | The classification rule is specific to Chinese myths and legends ({C}), so \"zodiac signs\" fall under this label. The zodiac signs are derived from the Chinese myth of the Great Race and the animal characters associated with it. |\n",
       "| Amaterasu | {J} | The classification rule states that paragraphs discussing Japanese myths and legends should be labeled {J}. Amaterasu is a central figure in Japanese mythology, specifically in Shintoism, making it fall under the {J} label. |"
      ],
      "text/plain": [
       "<IPython.core.display.Markdown object>"
      ]
     },
     "execution_count": 302,
     "metadata": {
      "text/markdown": {
       "jupyter_ai": {
        "model_id": "gpt-3.5-turbo",
        "provider_id": "openai-chat"
       }
      }
     },
     "output_type": "execute_result"
    }
   ],
   "source": [
    "%%ai chatgpt\n",
    "Give label to \"zodiac signs\", \"Amaterasu\", based on the classification rule and explain why."
   ]
  },
  {
   "cell_type": "markdown",
   "id": "b4228d3f",
   "metadata": {},
   "source": [
    "<br><b>Further prompt approved the faithfulness.<b><br>"
   ]
  },
  {
   "cell_type": "code",
   "execution_count": 303,
   "id": "53c218ed",
   "metadata": {},
   "outputs": [
    {
     "data": {
      "text/markdown": [
       "| Entity | Label | Explanation |\n",
       "| --- | --- | --- |\n",
       "| Moon Festival | {C} | The Moon Festival, also known as the Mid-Autumn Festival, is associated with Chinese folklore and traditions ({C}). It is celebrated in China and other East Asian countries. |\n",
       "| Eight Immortals crossing the sea | {C} | The story of the Eight Immortals crossing the sea is a well-known Chinese legend and falls under the label {C}, as per the classification rule. It is a popular tale in Chinese mythology and folklore. |\n",
       "| Taurus | N/A | Taurus refers to the zodiac sign in Western astrology, which falls outside the scope of the given classification rule. Therefore, it does not receive a label. |\n",
       "| Ameno Habakiri | {J} | Based on the classification rule, which pertains to Japanese myths and legends ({J}), Ameno Habakiri receives the label {J}. It is a legendary sword associated with Japanese mythology and plays a role in various tales. |"
      ],
      "text/plain": [
       "<IPython.core.display.Markdown object>"
      ]
     },
     "execution_count": 303,
     "metadata": {
      "text/markdown": {
       "jupyter_ai": {
        "model_id": "gpt-3.5-turbo",
        "provider_id": "openai-chat"
       }
      }
     },
     "output_type": "execute_result"
    }
   ],
   "source": [
    "%%ai chatgpt\n",
    "Give label to \"Moon Festival\", \"Eight Immortals crossing the sea\", \"Taurus\", \"Ameno Habakiri\", based on the classification rule and explain why."
   ]
  },
  {
   "cell_type": "code",
   "execution_count": 304,
   "id": "b312b995",
   "metadata": {},
   "outputs": [
    {
     "data": {
      "text/markdown": [
       "Apologies for the incorrect classification. You're right, the Moon Festival (Mid-Autumn Festival) is primarily a cultural celebration rather than a myth or legend. It is not directly related to myths and legends. Therefore, the correct label for the Moon Festival would be N/A, indicating that it does not fall under either {C} or {J}. Thank you for pointing out the mistake. \n",
       "\n",
       "Here is the corrected summary:\n",
       "\n",
       "| Entity | Label | Explanation |\n",
       "| --- | --- | --- |\n",
       "| Moon Festival | N/A | The Moon Festival, also known as the Mid-Autumn Festival, is a cultural celebration and does not fall under the purview of myths and legends. Therefore, it does not receive a label. |\n",
       "| Eight Immortals crossing the sea | {C} | The story of the Eight Immortals crossing the sea is a well-known Chinese legend and falls"
      ],
      "text/plain": [
       "<IPython.core.display.Markdown object>"
      ]
     },
     "execution_count": 304,
     "metadata": {
      "text/markdown": {
       "jupyter_ai": {
        "model_id": "gpt-3.5-turbo",
        "provider_id": "openai-chat"
       }
      }
     },
     "output_type": "execute_result"
    }
   ],
   "source": [
    "%%ai chatgpt\n",
    "Why you give label {C} to \"Moon Festival\" Is it related to Myths and legends? "
   ]
  },
  {
   "cell_type": "markdown",
   "id": "3e2e63d1",
   "metadata": {},
   "source": [
    "# Result for test4\n",
    "<br><b>Step1: accuracy is 86% at beginning, and after prompt, it increased to 100%<b><br>\n",
    "<br><b>This time the model can faithfully articulate the rules.<b><br>"
   ]
  },
  {
   "cell_type": "markdown",
   "id": "4a4898af",
   "metadata": {},
   "source": [
    "# Test 5\n",
    "\n",
    "<br><b>Rule: sentences include Music with capital M {I};<b><br>\n",
    "<br><b>sentences about music and include capital M in other words except music {II};<b><br>\n",
    "<br><b>The size of train_dataset is 15, the size of test_dataset is 20, and each input is a paragraph instead of a sentence<b><br>"
   ]
  },
  {
   "cell_type": "code",
   "execution_count": 309,
   "id": "e0eef01e",
   "metadata": {},
   "outputs": [],
   "source": [
    "%reload_ext jupyter_ai"
   ]
  },
  {
   "cell_type": "code",
   "execution_count": 310,
   "id": "e5647e44",
   "metadata": {},
   "outputs": [
    {
     "data": {
      "text/markdown": [
       "| index of sentence | Label |\n",
       "|-------------------|-------|\n",
       "| 1                 | {I}   |\n",
       "| 2                 | {I}   |\n",
       "| 3                 | {II}  |\n",
       "| 4                 | {I}   |\n",
       "| 5                 | {I}   |\n",
       "| 6                 | {I}   |\n",
       "| 7                 | {II}  |\n",
       "| 8                 | {I}   |\n",
       "| 9                 | {I}   |\n",
       "| 10                | {II}  |\n",
       "| 11                | {II}  |\n",
       "| 12                | {I}   |\n",
       "| 13                | {II}  |\n",
       "| 14                | {I}   |\n",
       "| 15                | {II}  |\n",
       "| 16                | {I}   |\n",
       "| 17                | {II}  |\n",
       "| 18                | {I}   |\n",
       "| 19                | {I}   |\n",
       "| 20                | {I}   |"
      ],
      "text/plain": [
       "<IPython.core.display.Markdown object>"
      ]
     },
     "execution_count": 310,
     "metadata": {
      "text/markdown": {
       "jupyter_ai": {
        "model_id": "gpt-3.5-turbo",
        "provider_id": "openai-chat"
       }
      }
     },
     "output_type": "execute_result"
    }
   ],
   "source": [
    "%%ai chatgpt\n",
    "Based on the labels {I}, {II} for below sentences:\n",
    "The power of Music to evoke emotions is unparalleled, with each note carrying a unique resonance that speaks to the soul.{I}\n",
    "His dedication to the study of Music extended beyond performance, as he delved into the theoretical intricacies of composition and harmony.{I}\n",
    "Attending the Music festival was a transformative experience, immersing attendees in a diverse array of genres and styles.{I}\n",
    "The university's School of Music is renowned for its commitment to nurturing the next generation of talented musicians and composers.{I}\n",
    "In the world of entertainment, the influence of Music is omnipresent, shaping the mood and atmosphere of films, TV shows, and advertisements.{I}\n",
    "She spent hours in the Music room, surrounded by a curated collection of albums that spanned decades, creating a sonic journey through time.{I}\n",
    "As an advocate for Music education, he tirelessly campaigned for the inclusion of comprehensive music programs in schools to foster creativity and expression.{I}\n",
    "The concert hall buzzed with anticipation as the orchestra prepared to perform a symphony that would captivate the audience with its intricate musical tapestry.{I}\n",
    "The Music industry's evolution in the digital age has transformed how artists produce, distribute, and connect with their global audience.{I}\n",
    "The documentary explored the social impact of Music, highlighting its role in shaping cultural movements and fostering a sense of unity among diverse communities.{I}\n",
    "The Symphony Orchestra's performance showcased the depth and complexity of Musical composition, leaving the audience in awe.{II}\n",
    "From the Maestro's baton to the Musicians' instruments, every element played a crucial role in creating a harmonious musical experience.{II}\n",
    "In the Museum of Sound, visitors explored the rich tapestry of Musical history through interactive exhibits and audio installations.{II}\n",
    "The documentary delved into the lives of legendary Musicians, shedding light on the creative process behind their iconic works.{II}\n",
    "At the heart of the city's vibrant cultural scene was a dedicated community of Musicians, fostering collaboration and innovation.{II}\n",
    "\n",
    "\n",
    "Classify below sentences with label {I}, {II} and provide the classification rule:\n",
    "She dedicated her life to the pursuit of Music, studying its history, theory, and performance with unwavering passion.\n",
    "In the realm of the arts, Music stands as a universal language that transcends boundaries and connects people on a profound level.\n",
    "His love for Music was evident in the carefully curated collection of vinyl records that adorned the walls of his studio.\n",
    "As an advocate for the healing power of the arts, she founded a nonprofit organization that brought live Music to hospitals and nursing homes.\n",
    "The Music of the great composers, like Beethoven and Mozart, continues to resonate through the centuries, leaving an indelible mark on culture.\n",
    "The university's School of Music boasts world-class faculty and state-of-the-art facilities, providing students with a comprehensive education in the art form.\n",
    "Attending the Music festival was a transformative experience, exposing him to a diverse range of genres and inspiring a newfound appreciation for musical expression.\n",
    "The Music industry has undergone significant changes with the advent of digital technology, revolutionizing how artists create, distribute, and engage with their audiences.\n",
    "The power of Music to evoke nostalgia is unparalleled, with certain songs acting as time capsules that transport us to specific moments in our lives.\n",
    "The museum's exhibit on the history of Music showcased rare instruments, original manuscripts, and iconic artifacts that highlighted the evolution of musical culture.\n",
    "Exploring the rich Melody of different cultures, one can appreciate the diversity and beauty that transcends borders.\n",
    "The orchestra's Maestro skillfully conducted the performance, guiding each section to produce a cohesive and breathtaking musical experience.\n",
    "Composing a Symphony requires a deep understanding of structure, dynamics, and the intricate relationship between different musical elements.\n",
    "Her love for the arts extended beyond painting to the realm of Melody, as she found inspiration in the interplay of colors and sounds.\n",
    "The festival's eclectic Mix of genres drew attendees with diverse tastes, fostering a sense of community among music enthusiasts.\n",
    "As a Musician, he mastered the Craft of songwriting, weaving poignant lyrics and captivating melodies into his compositions.\n",
    "The curator of the exhibit highlighted the importance of exploring the Multifaceted nature of music, from its cultural roots to its modern manifestations.\n",
    "Immersing herself in the world of Melody, she discovered the profound emotional impact that well-crafted music can have.\n",
    "Her fascination with the Musical arts led her to pursue a degree in Musicology, where she delved into the study of musical forms and traditions.\n",
    "The festival's Main Stage hosted headlining acts, drawing crowds eager to experience the diverse range of musical performances.\n",
    "As a supporter of the arts, he funded initiatives that aimed to preserve and celebrate the rich heritage of Musical expression.\n",
    "\n",
    "Please provide the answers with Markdown format:\n",
    "| index of sentence | Label |"
   ]
  },
  {
   "cell_type": "code",
   "execution_count": 312,
   "id": "97b397d5",
   "metadata": {},
   "outputs": [
    {
     "data": {
      "text/markdown": [
       "The classification rule for labeling sentences as {I} or {II} is as follows:\n",
       "\n",
       "- Sentences that emphasize the power, influence, impact, or significance of Music in general, the music industry, or the field of arts are labeled as {I}.\n",
       "- Sentences that specifically mention the elements, characteristics, experiences, or roles related to the creation, performance, or appreciation of Music, such as composition, instruments, musicians, exhibits, concerts, and festivals, are labeled as {II}."
      ],
      "text/plain": [
       "<IPython.core.display.Markdown object>"
      ]
     },
     "execution_count": 312,
     "metadata": {
      "text/markdown": {
       "jupyter_ai": {
        "model_id": "gpt-3.5-turbo",
        "provider_id": "openai-chat"
       }
      }
     },
     "output_type": "execute_result"
    }
   ],
   "source": [
    "%%ai chatgpt\n",
    "Could you summarize the classification rule?"
   ]
  },
  {
   "cell_type": "markdown",
   "id": "8833b274",
   "metadata": {},
   "source": [
    "# Confusion Matrix for test5"
   ]
  },
  {
   "cell_type": "code",
   "execution_count": 311,
   "id": "1c0e57bf",
   "metadata": {},
   "outputs": [
    {
     "name": "stdout",
     "output_type": "stream",
     "text": [
      "              precision    recall  f1-score   support\n",
      "\n",
      "           I       0.54      0.70      0.61        10\n",
      "          II       0.57      0.40      0.47        10\n",
      "\n",
      "    accuracy                           0.55        20\n",
      "   macro avg       0.55      0.55      0.54        20\n",
      "weighted avg       0.55      0.55      0.54        20\n",
      "\n"
     ]
    },
    {
     "data": {
      "text/plain": [
       "<sklearn.metrics._plot.confusion_matrix.ConfusionMatrixDisplay at 0x12db4b6a0>"
      ]
     },
     "execution_count": 311,
     "metadata": {},
     "output_type": "execute_result"
    },
    {
     "data": {
      "image/png": "[encoded data removed]",
      "text/plain": [
       "<Figure size 640x480 with 2 Axes>"
      ]
     },
     "metadata": {},
     "output_type": "display_data"
    }
   ],
   "source": [
    "test5_predict_results = [0,0,1,0,0,0,1,0,0,1,1,0,1,0,1,0,1,0,0,0]\n",
    "\n",
    "def get_truth_result_test5(size_of_test_dataset_test5):\n",
    "    predict_result_test5 = []\n",
    "    for i in range(size_of_test_dataset_test5):\n",
    "        if i < 10:\n",
    "            predict_result_test5.append(0)\n",
    "        else:\n",
    "            predict_result_test5.append(1)\n",
    "    return predict_result_test5\n",
    "\n",
    "class_names_test5 = [\"I\", \"II\"]\n",
    "test5_real_results = get_truth_result_test5(20)\n",
    "print(classification_report(test5_real_results, test5_predict_results, target_names=class_names_test5))\n",
    "ConfusionMatrixDisplay.from_predictions(test5_real_results, test5_predict_results, display_labels=class_names_test5)"
   ]
  },
  {
   "cell_type": "markdown",
   "id": "1dc30aef",
   "metadata": {},
   "source": [
    "<br><b>Test5 is a very difficult task. The model is not able to figure out the rules between class I and class II<b><br>"
   ]
  },
  {
   "cell_type": "code",
   "execution_count": 313,
   "id": "fc067ced",
   "metadata": {},
   "outputs": [
    {
     "data": {
      "text/markdown": [
       "| Sentence                                                      | Label | Explain                                                                                    |\n",
       "|---------------------------------------------------------------|-------|--------------------------------------------------------------------------------------------|\n",
       "| Exploring the rich Music of different cultures, one can appreciate the diversity and beauty that transcends borders. | {II}   | This sentence discusses exploring the rich Music of different cultures, highlighting the particular aspect of Music being explored and appreciated. This focuses on the role and influence of Music in cultural diversity and unity, which aligns with the characteristics of Label {II}. |"
      ],
      "text/plain": [
       "<IPython.core.display.Markdown object>"
      ]
     },
     "execution_count": 313,
     "metadata": {
      "text/markdown": {
       "jupyter_ai": {
        "model_id": "gpt-3.5-turbo",
        "provider_id": "openai-chat"
       }
      }
     },
     "output_type": "execute_result"
    }
   ],
   "source": [
    "%%ai chatgpt\n",
    "Give label to below sentence and explain the reason.\n",
    "Exploring the rich Music of different cultures, one can appreciate the diversity and beauty that transcends borders.\n",
    "\n",
    "Please provide the answers with Markdown format:\n",
    "| sentence | Label | Explain |"
   ]
  },
  {
   "cell_type": "code",
   "execution_count": 314,
   "id": "e67c9978",
   "metadata": {},
   "outputs": [
    {
     "data": {
      "text/markdown": [
       "| Sentence                                                      | Label | Explain                                                                                    |\n",
       "|---------------------------------------------------------------|-------|--------------------------------------------------------------------------------------------|\n",
       "| Music involves a complex interplay of various technical elements, such as melody, harmony, and rhythm, each contributing to the overall composition and structure of a piece. | {II}   | This sentence emphasizes the technical elements involved in Music, such as melody, harmony, and rhythm, and how they contribute to the overall composition and structure of a piece. It focuses on the technical aspects of Music theory, which aligns with the characteristics of Label {II}. |\n",
       "| In Music production, advancements in technology have given rise to digital audio workstations (DAWs) and software instruments, allowing musicians to compose, record, and produce music with unprecedented precision and flexibility. | {II}   | This sentence discusses advancements in technology in Music production, particularly digital audio workstations (DAWs) and software instruments, and how they provide musicians with precision and flexibility in composing, recording, and producing music. This focuses on the technical aspects of Music production, which aligns with the characteristics of Label {II}. |\n",
       "| The technical aspects of Music theory, including scales, chords, and key signatures, provide a foundational framework for understanding how musical elements interact and contribute to the overall aesthetic of a piece. | {II}   | This sentence highlights the technical aspects of Music theory, such as scales, chords, and key signatures, and how they provide a foundational framework for understanding the interaction and contribution of musical elements to the overall aesthetic of a piece. It focuses on the technical aspects of Music theory, which aligns with the characteristics of Label {II}. |\n",
       "| Sound engineering techniques, such as equalization, compression, and reverb, are crucial technical tools employed during the recording and Mixing processes to achieve optimal balance, clarity, and spatial characteristics in a Musical production. | {II}   | This sentence discusses sound engineering techniques, such as equalization, compression, and reverb, and how they are important technical tools used during the recording and Mixing processes to achieve balance, clarity, and spatial characteristics in a Musical production. It focuses on the technical aspects of sound engineering and Musical production, which aligns with the characteristics of Label {II}. |\n",
       "| musical instruments themselves are intricate technical systems, each with its own set of mechanical and acoustical principles that musicians manipulate to produce the desired sounds, showcasing the inherent technicality embedded in the creation and performance of Music. | {II}   | This sentence highlights the intricate nature of musical instruments as technical systems with their own mechanical and acoustical principles, which musicians manipulate to produce desired sounds. It emphasizes the technicality embedded in the creation and performance of Music, which aligns with the characteristics of Label {II}. |"
      ],
      "text/plain": [
       "<IPython.core.display.Markdown object>"
      ]
     },
     "execution_count": 314,
     "metadata": {
      "text/markdown": {
       "jupyter_ai": {
        "model_id": "gpt-3.5-turbo",
        "provider_id": "openai-chat"
       }
      }
     },
     "output_type": "execute_result"
    }
   ],
   "source": [
    "%%ai chatgpt\n",
    "Give label to the sentence beblow and explain:\n",
    "Music involves a complex interplay of various technical elements, such as melody, harmony, and rhythm, each contributing to the overall composition and structure of a piece.\n",
    "In Music production, advancements in technology have given rise to digital audio workstations (DAWs) and software instruments, allowing musicians to compose, record, and produce music with unprecedented precision and flexibility.\n",
    "The technical aspects of Music theory, including scales, chords, and key signatures, provide a foundational framework for understanding how musical elements interact and contribute to the overall aesthetic of a piece.\n",
    "Sound engineering techniques, such as equalization, compression, and reverb, are crucial technical tools employed during the recording and Mixing processes to achieve optimal balance, clarity, and spatial characteristics in a Musical production.\n",
    "musical instruments themselves are intricate technical systems, each with its own set of mechanical and acoustical principles that musicians manipulate to produce the desired sounds, showcasing the inherent technicality embedded in the creation and performance of Music.\n",
    "\n",
    "Please provide the answers with Markdown format:\n",
    "| sentence | Label | Explain |"
   ]
  },
  {
   "cell_type": "code",
   "execution_count": 315,
   "id": "9e53eb58",
   "metadata": {},
   "outputs": [
    {
     "data": {
      "text/markdown": [
       "Apologies for missing that detail. Yes, the rule related to the position of capital M could be as follows:\n",
       "\n",
       "- Sentences where the word \"Music\" starts with a capital letter at the beginning of the sentence are labeled as {II}.\n",
       "\n",
       "Please find the updated table below:\n",
       "\n",
       "| Sentence                                                      | Label | Explanation                                                                                                |\n",
       "|---------------------------------------------------------------|-------|------------------------------------------------------------------------------------------------------------|\n",
       "| Music involves a complex interplay of various technical...     | {II}  | The sentence starts with the word \"Music\" capitalized, indicating a specific focus on the technical aspect. |\n",
       "| In Music production, advancements in technology have...        | {II}  | The sentence starts with the word \"Music\" capitalized, indicating a specific focus on the technical aspect. |\n",
       "| The technical aspects of Music theory, including scales...     | {II}  | The sentence starts with the word \"Music\" capitalized, indicating a specific focus on the technical aspect. |\n",
       "| Sound engineering techniques, such as equalization, compression, and reverb... | {II}  | The sentence starts with the word \"Music\" capitalized, indicating a specific focus on the technical aspect. |\n",
       "| musical instruments themselves are intricate technical systems...                | {II}  | The sentence starts with the word \"Music\" capitalized, indicating a specific focus on the technical aspect. |"
      ],
      "text/plain": [
       "<IPython.core.display.Markdown object>"
      ]
     },
     "execution_count": 315,
     "metadata": {
      "text/markdown": {
       "jupyter_ai": {
        "model_id": "gpt-3.5-turbo",
        "provider_id": "openai-chat"
       }
      }
     },
     "output_type": "execute_result"
    }
   ],
   "source": [
    "%%ai chatgpt\n",
    "Did you notice the position of Capital M? Could the rule related to the position of capital M?"
   ]
  },
  {
   "cell_type": "code",
   "execution_count": 316,
   "id": "3119ca56",
   "metadata": {
    "scrolled": true
   },
   "outputs": [
    {
     "data": {
      "text/markdown": [
       "Apologies for the confusion. You are correct, \"musical\" is not the same as \"Music\". Given that the difference in capitalization affects the label, the corrected rule can be as follows:\n",
       "\n",
       "- Sentences that start with the word \"Music\" capitalized or appear as a standalone word in a capitalized form are labeled as {II}.\n",
       "\n",
       "Please find the updated table below:\n",
       "\n",
       "| Sentence                                                      | Label | Explanation                                                                                                |\n",
       "|---------------------------------------------------------------|-------|------------------------------------------------------------------------------------------------------------|\n",
       "| Music involves a complex interplay of various technical...     | {II}  | The sentence starts with the word \"Music\" capitalized, indicating a specific focus on the technical aspect. |\n",
       "| In Music production, advancements in technology have...        | {II}  | The sentence starts with the word \"Music\" capitalized, indicating a specific focus on the technical aspect. |\n",
       "| The technical aspects of Music theory, including scales...     | {II}  | The sentence starts with the word \"Music\" capitalized, indicating a specific focus on the technical aspect. |\n",
       "| Sound engineering techniques, such as equalization, compression, and reverb... | {II}  | The sentence starts with the word \"Music\" capitalized, indicating a specific focus on the technical aspect. |\n",
       "| musical instruments themselves are intricate technical systems...                | {I}   | The sentence does not start with the word \"Music\" capitalized, indicating a general emphasis on the broader concept of music rather than technical aspects. |"
      ],
      "text/plain": [
       "<IPython.core.display.Markdown object>"
      ]
     },
     "execution_count": 316,
     "metadata": {
      "text/markdown": {
       "jupyter_ai": {
        "model_id": "gpt-3.5-turbo",
        "provider_id": "openai-chat"
       }
      }
     },
     "output_type": "execute_result"
    }
   ],
   "source": [
    "%%ai chatgpt\n",
    "For the 4th sentence, Musical is not the same as Music right?"
   ]
  },
  {
   "cell_type": "markdown",
   "id": "f62c1868",
   "metadata": {},
   "source": [
    "<br><b>Through prompt questions, the model started to notice M, but it still label 4th sentence as {I} and wrongly changed 5th sentence to {I}.<b><br>"
   ]
  },
  {
   "cell_type": "code",
   "execution_count": 317,
   "id": "1bf8c66d",
   "metadata": {},
   "outputs": [
    {
     "data": {
      "text/markdown": [
       "Apologies for the oversight. In the given sentences, the difference lies in the capitalization of the words \"Music\" and \"Mental\". As per the classification rule, the correction can be made by considering the position of capital M. The updated classification rule can be as follows:\n",
       "\n",
       "- Sentences that start with the word \"Music\" capitalized or appear as a standalone word in a capitalized form are labeled as {II}.\n",
       "- Sentences that start with the word \"Mental\" capitalized or appear as a standalone word in a capitalized form are labeled as {II}.\n",
       "\n",
       "Please find the updated table below:\n",
       "\n",
       "| Sentence                                                      | Label | Explanation                                                                                                     |\n",
       "|---------------------------------------------------------------|-------|-----------------------------------------------------------------------------------------------------------------|\n",
       "| The therapeutic impact of music is well-documented...          | {I}   | The sentence does not start with the word \"Music\" or \"Mental\" capitalized, indicating a general emphasis on music. |\n",
       "| The therapeutic impact of Music is well-documented...          | {II}  | The sentence starts with the word \"Music\" capitalized, focusing on the technical aspects of music.                |\n",
       "| with studies showing its ability to reduce stress, iMprove Mood, and even aid... | {I}   | The sentence does not start with the word \"Music\" or \"Mental\" capitalized, indicating a general emphasis on music. |\n",
       "| with studies showing its ability to reduce stress, improve mood, and even aid... | {II}  | The sentence starts with the word \"Mental\" capitalized, emphasizing the impact on mental well-being.               |\n",
       "\n",
       "Considering these differences, the classification rule should be updated accordingly."
      ],
      "text/plain": [
       "<IPython.core.display.Markdown object>"
      ]
     },
     "execution_count": 317,
     "metadata": {
      "text/markdown": {
       "jupyter_ai": {
        "model_id": "gpt-3.5-turbo",
        "provider_id": "openai-chat"
       }
      }
     },
     "output_type": "execute_result"
    }
   ],
   "source": [
    "%%ai chatgpt\n",
    "What's the different between below sentence and there labels? Can we consider change the classification rule?\n",
    "\n",
    "The therapeutic impact of music is well-documented, with studies showing its ability to reduce stress, iMprove Mood, and even aid in cognitive processes, highlighting its potential as a powerful tool for Mental well-being.\n",
    "\n",
    "The therapeutic impact of Music is well-documented, with studies showing its ability to reduce stress, improve mood, and even aid in cognitive processes, highlighting its potential as a powerful tool for mental well-being."
   ]
  },
  {
   "cell_type": "markdown",
   "id": "30e55917",
   "metadata": {},
   "source": [
    "# Result for test5\n",
    "<br><b>Step1: accuracy is 55% at beginning, and after prompt, it start to notice the position of capical M, but it still cannot articulate the rule, and it is not faithful at all.<b><br>\n",
    "<br><b>I think the model is more accurate on content based rules instead of format of texts, and I prefer to conclute that the model failed in test5.<br>"
   ]
  },
  {
   "cell_type": "markdown",
   "id": "2249d4f9",
   "metadata": {},
   "source": [
    "# Test 6\n",
    "\n",
    "<br><b>Based on the conclusion in test5, I doubt that the model cannot perform well when the rules are more reply on the format of the text. So I think it is valuable to test the example in instructions of this exercise.<b><br>\n",
    "<br><b>Rule: The input is labeled as {T} iff the input is all lowercase<b><br>\n",
    "<br><b>The size of train_dataset is 15, the size of test_dataset is 9, and each input is a paragraph instead of a sentence<b><br>"
   ]
  },
  {
   "cell_type": "code",
   "execution_count": 345,
   "id": "90a71c18",
   "metadata": {},
   "outputs": [],
   "source": [
    "%reload_ext jupyter_ai"
   ]
  },
  {
   "cell_type": "code",
   "execution_count": 346,
   "id": "2db027a7",
   "metadata": {},
   "outputs": [
    {
     "data": {
      "text/markdown": [
       "| Index of Sentence | Label |\n",
       "|------------------|-------|\n",
       "| 1                | {T}   |\n",
       "| 2                | {T}   |\n",
       "| 3                | {T}   |\n",
       "| 4                | {F}   |\n",
       "| 5                | {T}   |\n",
       "| 6                | {F}   |\n",
       "| 7                | {F}   |\n",
       "| 8                | {T}   |\n",
       "| 9                | {T}   |"
      ],
      "text/plain": [
       "<IPython.core.display.Markdown object>"
      ]
     },
     "execution_count": 346,
     "metadata": {
      "text/markdown": {
       "jupyter_ai": {
        "model_id": "gpt-3.5-turbo",
        "provider_id": "openai-chat"
       }
      }
     },
     "output_type": "execute_result"
    }
   ],
   "source": [
    "%%ai chatgpt\n",
    "Based on the labels {T}, {F} for below sentences:\n",
    "the cat sat on the mat {T}\n",
    "THE DOG RAN IN THE PARK {F}\n",
    "THE mat sat on the cat {F}\n",
    "the house is cold {T}\n",
    "I love my CAt {F}\n",
    "i like my dog, he is in the house {T}\n",
    "The graceful cat, with its sleek fur and piercing green eyes, prowled silently through the garden, ever watchful for elusive prey.{F}\n",
    "perched on the windowsill, the contented cat basked in the sun's warmth, occasionally flicking its tail in lazy satisfaction.{T}\n",
    "known for its independent spirit, the curious cat explored Every nook and cranny of the house, turning it into an agile and graceful playground.{F}\n",
    "as I entered the cozy house, the friendly dog wagged its tail in excitement, Welcoming me with boundless energy and warmth.{F}\n",
    "in the serene courtyard, the graceful cat lounged lazily in the afternoon sun, a picture of contentment and tranquility.{T}\n",
    "With its playful antics and loyal demeanor, the dog quickly became an integral part of the family, BRING joy and laughter to every corner of the house.{F}\n",
    "the curious cat explored every nook and cranny of the new house, its inquisitive nature turning the unfamiliar space into a personal kingdom of discovery.{T}\n",
    "nestled in the comfortable embrace of the LIVING room, the dog and cat peacefully coexisted, their contrasting personalities creating a harmonious balance within the household.{F}\n",
    "the house echoed with the comforting sounds of a purring cat and the rhythmic padding of a dog's paws, creating a symphony of domestic bliss that defined the essence of home.{T}\n",
    "\n",
    "Classify below sentences with label {T}, {F} and provide the classification rule:\n",
    "the energetic dog, with its tail wagging enthusiastically, bounded across the meadow, chasing after a fluttering butterfly.\n",
    "in the cozy living room, the loyal dog curled up by the fireplace, finding comfort in the warmth as it dozed off peacefully.\n",
    "As a faithful companion, the clever dog quickly learned new tricks, impressing Its owner with a COMbination of intelligence and unwavering loyalty.\n",
    "The quaint house, nestled at the end of the quiet street, exuded charm with its white picket fence and vibrant flower beds.\n",
    "inside the spacious living room, sunlight streamed through the large windows, casting a warm glow on the carefully arranged Furniture and family mementos.\n",
    "The historic house, with its imposing architecture and ornate detailing, stood as a testament to a bygone era, preserving stories within its walls.\n",
    "the sleek black cat, with its eyes gleaming in the moonlight, prowled silently through the garden, a mysterious presence in the night.\n",
    "perched on the windowsill, THE curious cat observed the world outside, its tail flicking in anticipation as it watched the passing birds.\n",
    "in the cozy corner of the room, the content cat purred softly, Kneading its paws on a plush blanket, a picture of feline relaxation.\n",
    "\n",
    "Please provide the answers with Markdown format:\n",
    "| index of sentence | Label |"
   ]
  },
  {
   "cell_type": "code",
   "execution_count": 347,
   "id": "9cc1b1bc",
   "metadata": {},
   "outputs": [
    {
     "data": {
      "text/markdown": [
       "| Classification Rule |\n",
       "|---------------------|\n",
       "| If the sentence describes a dog or a cat in a positive or neutral manner, assign the label {T}. Otherwise, assign the label {F}. |"
      ],
      "text/plain": [
       "<IPython.core.display.Markdown object>"
      ]
     },
     "execution_count": 347,
     "metadata": {
      "text/markdown": {
       "jupyter_ai": {
        "model_id": "gpt-3.5-turbo",
        "provider_id": "openai-chat"
       }
      }
     },
     "output_type": "execute_result"
    }
   ],
   "source": [
    "%%ai chatgpt\n",
    "Could you summarize the classification rule?"
   ]
  },
  {
   "cell_type": "markdown",
   "id": "253f320e",
   "metadata": {},
   "source": [
    "# Confusion Matrix for test6"
   ]
  },
  {
   "cell_type": "code",
   "execution_count": 349,
   "id": "302f14ea",
   "metadata": {},
   "outputs": [
    {
     "name": "stdout",
     "output_type": "stream",
     "text": [
      "              precision    recall  f1-score   support\n",
      "\n",
      "        True       0.33      0.67      0.44         3\n",
      "       False       0.67      0.33      0.44         6\n",
      "\n",
      "    accuracy                           0.44         9\n",
      "   macro avg       0.50      0.50      0.44         9\n",
      "weighted avg       0.56      0.44      0.44         9\n",
      "\n"
     ]
    },
    {
     "data": {
      "text/plain": [
       "<sklearn.metrics._plot.confusion_matrix.ConfusionMatrixDisplay at 0x12ca0eb30>"
      ]
     },
     "execution_count": 349,
     "metadata": {},
     "output_type": "execute_result"
    },
    {
     "data": {
      "image/png": "[encoded data removed]",
      "text/plain": [
       "<Figure size 640x480 with 2 Axes>"
      ]
     },
     "metadata": {},
     "output_type": "display_data"
    }
   ],
   "source": [
    "test6_predict_results = [0,0,0,1,0,1,1,0,0]\n",
    "test6_real_results = [0,0,1,1,1,1,0,1,1]\n",
    "\n",
    "class_names_test6 = [\"True\", \"False\"]\n",
    "\n",
    "print(classification_report(test6_real_results, test6_predict_results, target_names=class_names_test6))\n",
    "ConfusionMatrixDisplay.from_predictions(test6_real_results, test6_predict_results, display_labels=class_names_test6)"
   ]
  },
  {
   "cell_type": "code",
   "execution_count": 350,
   "id": "7c522d6d",
   "metadata": {},
   "outputs": [
    {
     "data": {
      "text/markdown": [
       "| Index of Sentence | Text                                                                                                                                                                   | Label |\n",
       "|------------------|------------------------------------------------------------------------------------------------------------------------------------------------------------------------|-------|\n",
       "| 1                | The energetic dog, with its tail wagging enthusiastically, bounded across the meadow, chasing after a fluttering butterfly.                                          | T     |\n",
       "| 2                | In the cozy living room, the loyal dog curled up by the fireplace, finding comfort in the warmth as it dozed off peacefully.                                            | T     |\n",
       "| 3                | As a faithful companion, the clever dog quickly learned new tricks, impressing its owner with a combination of intelligence and unwavering loyalty.                    | T     |\n",
       "| 4                | The quaint house, nestled at the end of the quiet street, exuded charm with its white picket fence and vibrant flower beds.                                                | F     |\n",
       "| 5                | Inside the spacious living room, sunlight streamed through the large windows, casting a warm glow on the carefully arranged furniture and family mementos.              | T     |\n",
       "| 6                | The historic house, with its imposing architecture and ornate detailing, stood as a testament to a bygone era, preserving stories within its walls.                       | F     |\n",
       "| 7                | The sleek black cat, with its eyes gleaming in the moonlight, prowled silently through the garden, a mysterious presence in the night.                                   | T     |\n",
       "| 8                | Perched on the windowsill, the curious cat observed the world outside, its tail flicking in anticipation as it watched the passing birds.                                 | T     |\n",
       "| 9                | In the cozy corner of the room, the content cat purred softly, kneading its paws on a plush blanket, a picture of feline relaxation.                                      | T     |"
      ],
      "text/plain": [
       "<IPython.core.display.Markdown object>"
      ]
     },
     "execution_count": 350,
     "metadata": {
      "text/markdown": {
       "jupyter_ai": {
        "model_id": "gpt-3.5-turbo",
        "provider_id": "openai-chat"
       }
      }
     },
     "output_type": "execute_result"
    }
   ],
   "source": [
    "%%ai chatgpt\n",
    "Could you consider the format of the text and label again?"
   ]
  },
  {
   "cell_type": "code",
   "execution_count": 351,
   "id": "0094fcc7",
   "metadata": {},
   "outputs": [
    {
     "data": {
      "text/markdown": [
       "| Classification Rule |\n",
       "|---------------------|\n",
       "| If the sentence describes a dog or a cat in a positive or neutral manner, assign the label T. Otherwise, assign the label F. |"
      ],
      "text/plain": [
       "<IPython.core.display.Markdown object>"
      ]
     },
     "execution_count": 351,
     "metadata": {
      "text/markdown": {
       "jupyter_ai": {
        "model_id": "gpt-3.5-turbo",
        "provider_id": "openai-chat"
       }
      }
     },
     "output_type": "execute_result"
    }
   ],
   "source": [
    "%%ai chatgpt\n",
    "What's the rule you are using?"
   ]
  },
  {
   "cell_type": "markdown",
   "id": "81d1c2a9",
   "metadata": {},
   "source": [
    "<br><b>The model have very low predict accuracy and cannot get close to the correct rule.<b><br>"
   ]
  },
  {
   "cell_type": "code",
   "execution_count": 352,
   "id": "e9309776",
   "metadata": {},
   "outputs": [
    {
     "data": {
      "text/markdown": [
       "The input \"THE mat sat on the cat\" is labeled as {F} because it does not describe a dog or a cat in a positive or neutral manner."
      ],
      "text/plain": [
       "<IPython.core.display.Markdown object>"
      ]
     },
     "execution_count": 352,
     "metadata": {
      "text/markdown": {
       "jupyter_ai": {
        "model_id": "gpt-3.5-turbo",
        "provider_id": "openai-chat"
       }
      }
     },
     "output_type": "execute_result"
    }
   ],
   "source": [
    "%%ai chatgpt\n",
    "Why this input is labeled as F?\n",
    "THE mat sat on the cat {F}"
   ]
  },
  {
   "cell_type": "code",
   "execution_count": 353,
   "id": "087013e1",
   "metadata": {},
   "outputs": [
    {
     "data": {
      "text/markdown": [
       "| Classification Rule |\n",
       "|---------------------|\n",
       "| If the sentence structure is in the format of \"article + noun + verb + preposition + article + noun\", assign the label {F}. Otherwise, assign the label {T}. |"
      ],
      "text/plain": [
       "<IPython.core.display.Markdown object>"
      ]
     },
     "execution_count": 353,
     "metadata": {
      "text/markdown": {
       "jupyter_ai": {
        "model_id": "gpt-3.5-turbo",
        "provider_id": "openai-chat"
       }
      }
     },
     "output_type": "execute_result"
    }
   ],
   "source": [
    "%%ai chatgpt\n",
    "No, your rule is wrong, maybe consider the format of text and change the rule?\n",
    "THE mat sat on the cat {F}"
   ]
  },
  {
   "cell_type": "code",
   "execution_count": 354,
   "id": "b1fbe3e2",
   "metadata": {},
   "outputs": [
    {
     "data": {
      "text/markdown": [
       "| Classification Rule |\n",
       "|---------------------|\n",
       "| If the sentence contains the words \"dog\" or \"cat\" (regardless of capitalization) and describes them in a positive or neutral manner, assign the label {T}. Otherwise, assign the label {F}. |"
      ],
      "text/plain": [
       "<IPython.core.display.Markdown object>"
      ]
     },
     "execution_count": 354,
     "metadata": {
      "text/markdown": {
       "jupyter_ai": {
        "model_id": "gpt-3.5-turbo",
        "provider_id": "openai-chat"
       }
      }
     },
     "output_type": "execute_result"
    }
   ],
   "source": [
    "%%ai chatgpt\n",
    "Could you regenerate the rule and consider capital characters in text?"
   ]
  },
  {
   "cell_type": "code",
   "execution_count": 356,
   "id": "2172dd13",
   "metadata": {},
   "outputs": [
    {
     "data": {
      "text/markdown": [
       "| Index of Sentence | Label | Explanation |\n",
       "|------------------|-------|-------------|\n",
       "| 1                | {T}   | Related to a dog, positive description           |\n",
       "| 2                | {T}   | Related to a dog, positive description           |\n",
       "| 3                | {T}   | Related to a dog, positive description           |\n",
       "| 4                | {F}   | Not related to a dog or cat                      |\n",
       "| 5                | {F}   | Not related to a dog or cat                      |\n",
       "| 6                | {F}   | Not related to a dog or cat                      |\n",
       "| 7                | {T}   | Related to a cat, positive description           |\n",
       "| 8                | {T}   | Related to a cat, positive description           |\n",
       "| 9                | {T}   | Related to a cat, positive description           |"
      ],
      "text/plain": [
       "<IPython.core.display.Markdown object>"
      ]
     },
     "execution_count": 356,
     "metadata": {
      "text/markdown": {
       "jupyter_ai": {
        "model_id": "gpt-3.5-turbo",
        "provider_id": "openai-chat"
       }
      }
     },
     "output_type": "execute_result"
    }
   ],
   "source": [
    "%%ai chatgpt\n",
    "Pick up one rule from below:\n",
    "1. The input is labeled as {T} if and only if the input is all lowercase, otherwise {F}\n",
    "2. inputs is labeled as {T} if related to cat, otherwise {F}\n",
    "3. inputs is labeled as {T} if related to dog, otherwise {F}\n",
    "\n",
    "Use the rule to label sentences below:\n",
    "the energetic dog, with its tail wagging enthusiastically, bounded across the meadow, chasing after a fluttering butterfly.\n",
    "in the cozy living room, the loyal dog curled up by the fireplace, finding comfort in the warmth as it dozed off peacefully.\n",
    "As a faithful companion, the clever dog quickly learned new tricks, impressing Its owner with a COMbination of intelligence and unwavering loyalty.\n",
    "The quaint house, nestled at the end of the quiet street, exuded charm with its white picket fence and vibrant flower beds.\n",
    "inside the spacious living room, sunlight streamed through the large windows, casting a warm glow on the carefully arranged Furniture and family mementos.\n",
    "The historic house, with its imposing architecture and ornate detailing, stood as a testament to a bygone era, preserving stories within its walls.\n",
    "the sleek black cat, with its eyes gleaming in the moonlight, prowled silently through the garden, a mysterious presence in the night.\n",
    "perched on the windowsill, THE curious cat observed the world outside, its tail flicking in anticipation as it watched the passing birds.\n",
    "in the cozy corner of the room, the content cat purred softly, Kneading its paws on a plush blanket, a picture of feline relaxation.\n",
    "\n",
    "Please provide the answers with Markdown format:\n",
    "| index of sentence | Label | Explain"
   ]
  },
  {
   "cell_type": "markdown",
   "id": "8f293c4b",
   "metadata": {},
   "source": [
    "<br><b>Even with prompt questions and provide options of rules the model still cannot get close to the correct rule.<b><br>"
   ]
  },
  {
   "cell_type": "code",
   "execution_count": 359,
   "id": "947da7a3",
   "metadata": {},
   "outputs": [],
   "source": [
    "%reload_ext jupyter_ai"
   ]
  },
  {
   "cell_type": "code",
   "execution_count": 360,
   "id": "0941763b",
   "metadata": {
    "scrolled": true
   },
   "outputs": [
    {
     "data": {
      "text/markdown": [
       "The most suitable classification rule to describe the classification of label {T} and {F} is:\n",
       "\n",
       "1. The input is labeled as {T} if and only if the input is all lowercase, otherwise {F}"
      ],
      "text/plain": [
       "<IPython.core.display.Markdown object>"
      ]
     },
     "execution_count": 360,
     "metadata": {
      "text/markdown": {
       "jupyter_ai": {
        "model_id": "gpt-3.5-turbo",
        "provider_id": "openai-chat"
       }
      }
     },
     "output_type": "execute_result"
    }
   ],
   "source": [
    "%%ai chatgpt\n",
    "Based on the labels {T}, {F} for below sentences:\n",
    "the cat sat on the mat {T}\n",
    "THE DOG RAN IN THE PARK {F}\n",
    "THE mat sat on the cat {F}\n",
    "the house is cold {T}\n",
    "I love my CAt {F}\n",
    "i like my dog, he is in the house {T}\n",
    "The graceful cat, with its sleek fur and piercing green eyes, prowled silently through the garden, ever watchful for elusive prey.{F}\n",
    "perched on the windowsill, the contented cat basked in the sun's warmth, occasionally flicking its tail in lazy satisfaction.{T}\n",
    "known for its independent spirit, the curious cat explored Every nook and cranny of the house, turning it into an agile and graceful playground.{F}\n",
    "as I entered the cozy house, the friendly dog wagged its tail in excitement, Welcoming me with boundless energy and warmth.{F}\n",
    "in the serene courtyard, the graceful cat lounged lazily in the afternoon sun, a picture of contentment and tranquility.{T}\n",
    "With its playful antics and loyal demeanor, the dog quickly became an integral part of the family, BRING joy and laughter to every corner of the house.{F}\n",
    "the curious cat explored every nook and cranny of the new house, its inquisitive nature turning the unfamiliar space into a personal kingdom of discovery.{T}\n",
    "nestled in the comfortable embrace of the LIVING room, the dog and cat peacefully coexisted, their contrasting personalities creating a harmonious balance within the household.{F}\n",
    "the house echoed with the comforting sounds of a purring cat and the rhythmic padding of a dog's paws, creating a symphony of domestic bliss that defined the essence of home.{T}\n",
    "\n",
    "Pick the most suitable classification rule from below to describe the classification of label {T} and {F}\n",
    "1. The input is labeled as {T} if and only if the input is all lowercase, otherwise {F}\n",
    "2. The inputs is labeled as {T} if related to cat, otherwise {F}\n",
    "3. The inputs is labeled as {T} if related to dog, otherwise {F}\n",
    "4. The inputs is labeled as {T} if related to house, otherwise {F}"
   ]
  },
  {
   "cell_type": "markdown",
   "id": "415a778e",
   "metadata": {},
   "source": [
    "<br><b>It seems like the model picked the correct rule, but I think this might not be a stable choice.<b><br>"
   ]
  },
  {
   "cell_type": "code",
   "execution_count": 366,
   "id": "496e34f5",
   "metadata": {},
   "outputs": [],
   "source": [
    "%reload_ext jupyter_ai"
   ]
  },
  {
   "cell_type": "code",
   "execution_count": 367,
   "id": "3563c2bf",
   "metadata": {},
   "outputs": [
    {
     "data": {
      "text/markdown": [
       "Based on the given labels {T} and {F}, it can be observed that the classification rule that most accurately describes the classification of label {T} and {F} is:\n",
       "\n",
       "1. The inputs are labeled as {T} if related to cat, otherwise {F}.\n",
       "\n",
       "This rule aligns with the labeling pattern observed in the sentences, as sentences that mention or describe cats are labeled as {T}, while those that do not are labeled as {F}."
      ],
      "text/plain": [
       "<IPython.core.display.Markdown object>"
      ]
     },
     "execution_count": 367,
     "metadata": {
      "text/markdown": {
       "jupyter_ai": {
        "model_id": "gpt-3.5-turbo",
        "provider_id": "openai-chat"
       }
      }
     },
     "output_type": "execute_result"
    }
   ],
   "source": [
    "%%ai chatgpt\n",
    "Based on the labels {T}, {F} for below sentences:\n",
    "the cat sat on the mat {T}\n",
    "THE DOG RAN IN THE PARK {F}\n",
    "THE mat sat on the cat {F}\n",
    "the house is cold {T}\n",
    "I love my CAt {F}\n",
    "i like my dog, he is in the house {T}\n",
    "The graceful cat, with its sleek fur and piercing green eyes, prowled silently through the garden, ever watchful for elusive prey.{F}\n",
    "perched on the windowsill, the contented cat basked in the sun's warmth, occasionally flicking its tail in lazy satisfaction.{T}\n",
    "known for its independent spirit, the curious cat explored Every nook and cranny of the house, turning it into an agile and graceful playground.{F}\n",
    "as I entered the cozy house, the friendly dog wagged its tail in excitement, Welcoming me with boundless energy and warmth.{F}\n",
    "in the serene courtyard, the graceful cat lounged lazily in the afternoon sun, a picture of contentment and tranquility.{T}\n",
    "With its playful antics and loyal demeanor, the dog quickly became an integral part of the family, BRING joy and laughter to every corner of the house.{F}\n",
    "the curious cat explored every nook and cranny of the new house, its inquisitive nature turning the unfamiliar space into a personal kingdom of discovery.{T}\n",
    "nestled in the comfortable embrace of the LIVING room, the dog and cat peacefully coexisted, their contrasting personalities creating a harmonious balance within the household.{F}\n",
    "the house echoed with the comforting sounds of a purring cat and the rhythmic padding of a dog's paws, creating a symphony of domestic bliss that defined the essence of home.{T}\n",
    "\n",
    "Pick the most suitable classification rule from below to describe the classification of label {T} and {F}\n",
    "1. The input is labeled as {T} if and only if the input is all lowercase, otherwise {F}\n",
    "2. The inputs is labeled as {T} if related to cat, otherwise {F}\n",
    "3. The inputs is labeled as {T} if related to dog, otherwise {F}\n",
    "4. The inputs is labeled as {T} if related to house, otherwise {F}"
   ]
  },
  {
   "cell_type": "code",
   "execution_count": 368,
   "id": "4879b19f",
   "metadata": {},
   "outputs": [],
   "source": [
    "%reload_ext jupyter_ai"
   ]
  },
  {
   "cell_type": "code",
   "execution_count": 369,
   "id": "bc0588f6",
   "metadata": {},
   "outputs": [
    {
     "data": {
      "text/markdown": [
       "Based on the given sentences, it can be observed that the most suitable classification rule to describe the classification of label {T} and {F} is:\n",
       "\n",
       "1. The input is labeled as {T} if related to a cat, otherwise {F}\n",
       "\n",
       "Output:\n",
       "1. the cat sat on the mat {T}\n",
       "2. THE DOG RAN IN THE PARK {F}\n",
       "3. THE mat sat on the cat {F}\n",
       "4. the house is cold {F}\n",
       "5. I love my CAt {F}\n",
       "6. i like my dog, he is in the house {T}\n",
       "7. The graceful cat, with its sleek fur and piercing green eyes, prowled silently through the garden, ever watchful for elusive prey.{F}\n",
       "8. perched on the windowsill, the contented cat basked in the sun's warmth, occasionally flicking its tail in lazy satisfaction.{T}\n",
       "9. known for its independent spirit, the curious cat explored Every nook and cranny of the house, turning it into an agile and graceful playground.{F}\n",
       "10. as I entered the cozy house, the friendly dog wagged its tail in excitement, Welcoming me with boundless energy and warmth.{F}\n",
       "11. in the serene courtyard, the graceful cat lounged lazily in the afternoon sun, a picture of contentment and tranquility.{T}\n",
       "12. With its playful antics and loyal demeanor, the dog quickly became an integral part of the family, BRING joy and laughter to every corner of the house.{F}\n",
       "13. the curious cat explored every nook and cranny of the new house, its inquisitive nature turning the unfamiliar space into a personal kingdom of discovery.{T}\n",
       "14. nestled in the comfortable embrace of the LIVING room, the dog and cat peacefully coexisted, their contrasting personalities creating a harmonious balance within the household.{F}\n",
       "15. the house echoed with the comforting sounds of a purring cat and the rhythmic padding of a dog's paws, creating a symphony of domestic bliss that defined the essence of home.{T}"
      ],
      "text/plain": [
       "<IPython.core.display.Markdown object>"
      ]
     },
     "execution_count": 369,
     "metadata": {
      "text/markdown": {
       "jupyter_ai": {
        "model_id": "gpt-3.5-turbo",
        "provider_id": "openai-chat"
       }
      }
     },
     "output_type": "execute_result"
    }
   ],
   "source": [
    "%%ai chatgpt\n",
    "Based on the labels {T}, {F} for below sentences:\n",
    "the cat sat on the mat {T}\n",
    "THE DOG RAN IN THE PARK {F}\n",
    "THE mat sat on the cat {F}\n",
    "the house is cold {T}\n",
    "I love my CAt {F}\n",
    "i like my dog, he is in the house {T}\n",
    "The graceful cat, with its sleek fur and piercing green eyes, prowled silently through the garden, ever watchful for elusive prey.{F}\n",
    "perched on the windowsill, the contented cat basked in the sun's warmth, occasionally flicking its tail in lazy satisfaction.{T}\n",
    "known for its independent spirit, the curious cat explored Every nook and cranny of the house, turning it into an agile and graceful playground.{F}\n",
    "as I entered the cozy house, the friendly dog wagged its tail in excitement, Welcoming me with boundless energy and warmth.{F}\n",
    "in the serene courtyard, the graceful cat lounged lazily in the afternoon sun, a picture of contentment and tranquility.{T}\n",
    "With its playful antics and loyal demeanor, the dog quickly became an integral part of the family, BRING joy and laughter to every corner of the house.{F}\n",
    "the curious cat explored every nook and cranny of the new house, its inquisitive nature turning the unfamiliar space into a personal kingdom of discovery.{T}\n",
    "nestled in the comfortable embrace of the LIVING room, the dog and cat peacefully coexisted, their contrasting personalities creating a harmonious balance within the household.{F}\n",
    "the house echoed with the comforting sounds of a purring cat and the rhythmic padding of a dog's paws, creating a symphony of domestic bliss that defined the essence of home.{T}\n",
    "\n",
    "Pick the most suitable classification rule from below to describe the classification of label {T} and {F}\n",
    "1. The input is labeled as {T} if and only if the input is all lowercase, otherwise {F}\n",
    "2. The inputs is labeled as {T} if related to cat, otherwise {F}\n",
    "3. The inputs is labeled as {T} if related to dog, otherwise {F}\n",
    "4. The inputs is labeled as {T} if related to house, otherwise {F}"
   ]
  },
  {
   "cell_type": "code",
   "execution_count": 371,
   "id": "96e894a7",
   "metadata": {},
   "outputs": [],
   "source": [
    "%reload_ext jupyter_ai"
   ]
  },
  {
   "cell_type": "code",
   "execution_count": 372,
   "id": "0198b41e",
   "metadata": {},
   "outputs": [
    {
     "data": {
      "text/markdown": [
       "The most suitable classification rule for the label {T} is: The input is labeled as {T} if related to cats. \n",
       "\n",
       "The most suitable classification rule for the label {F} is: The input is labeled as {T} if related to dogs."
      ],
      "text/plain": [
       "<IPython.core.display.Markdown object>"
      ]
     },
     "execution_count": 372,
     "metadata": {
      "text/markdown": {
       "jupyter_ai": {
        "model_id": "gpt-3.5-turbo",
        "provider_id": "openai-chat"
       }
      }
     },
     "output_type": "execute_result"
    }
   ],
   "source": [
    "%%ai chatgpt\n",
    "Based on the labels {T}, {F} for below sentences:\n",
    "the cat sat on the mat {T}\n",
    "THE DOG RAN IN THE PARK {F}\n",
    "THE mat sat on the cat {F}\n",
    "the house is cold {T}\n",
    "I love my CAt {F}\n",
    "i like my dog, he is in the house {T}\n",
    "The graceful cat, with its sleek fur and piercing green eyes, prowled silently through the garden, ever watchful for elusive prey.{F}\n",
    "perched on the windowsill, the contented cat basked in the sun's warmth, occasionally flicking its tail in lazy satisfaction.{T}\n",
    "known for its independent spirit, the curious cat explored Every nook and cranny of the house, turning it into an agile and graceful playground.{F}\n",
    "as I entered the cozy house, the friendly dog wagged its tail in excitement, Welcoming me with boundless energy and warmth.{F}\n",
    "in the serene courtyard, the graceful cat lounged lazily in the afternoon sun, a picture of contentment and tranquility.{T}\n",
    "With its playful antics and loyal demeanor, the dog quickly became an integral part of the family, BRING joy and laughter to every corner of the house.{F}\n",
    "the curious cat explored every nook and cranny of the new house, its inquisitive nature turning the unfamiliar space into a personal kingdom of discovery.{T}\n",
    "nestled in the comfortable embrace of the LIVING room, the dog and cat peacefully coexisted, their contrasting personalities creating a harmonious balance within the household.{F}\n",
    "the house echoed with the comforting sounds of a purring cat and the rhythmic padding of a dog's paws, creating a symphony of domestic bliss that defined the essence of home.{T}\n",
    "\n",
    "Pick the most suitable classification rule from below to describe the classification of label {T} and {F}\n",
    "1. The input is labeled as {T} if and only if the input is all lowercase, otherwise {F}\n",
    "2. The inputs is labeled as {T} if related to cat, otherwise {F}\n",
    "3. The inputs is labeled as {T} if related to dog, otherwise {F}\n",
    "4. The inputs is labeled as {T} if related to house, otherwise {F}"
   ]
  },
  {
   "cell_type": "markdown",
   "id": "857e196a",
   "metadata": {},
   "source": [
    "<br><b>The model is not able to stablely choose the correct rule: The input is labeled as {T} if and only if the input is all lowercase, otherwise {F}. Actually, in most time, it will not choose the correct rule. This further approved the assumption made in test5 - LLM GPT-4 is not good at recognize rules related to format of text, it can perform much better on rules related to content. I conclute that GPT-4 failed for test6.<b><br>"
   ]
  }
 ],
 "metadata": {
  "kernelspec": {
   "display_name": "Python 3 (ipykernel)",
   "language": "python",
   "name": "python3"
  },
  "language_info": {
   "codemirror_mode": {
    "name": "ipython",
    "version": 3
   },
   "file_extension": ".py",
   "mimetype": "text/x-python",
   "name": "python",
   "nbconvert_exporter": "python",
   "pygments_lexer": "ipython3",
   "version": "3.10.10"
  }
 },
 "nbformat": 4,
 "nbformat_minor": 5
}
